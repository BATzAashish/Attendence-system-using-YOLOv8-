{
 "cells": [
  {
   "cell_type": "code",
   "execution_count": 5,
   "metadata": {},
   "outputs": [
    {
     "name": "stdout",
     "output_type": "stream",
     "text": [
      "True\n",
      "True\n",
      "True\n"
     ]
    }
   ],
   "source": [
    "import os\n",
    "print(os.path.exists('D:/2NDTRY/train/images'))\n",
    "print(os.path.exists('D:/2NDTRY/valid/images'))\n",
    "print(os.path.exists('D:/2NDTRY/data.yaml'))\n"
   ]
  },
  {
   "cell_type": "code",
   "execution_count": 8,
   "metadata": {},
   "outputs": [
    {
     "name": "stdout",
     "output_type": "stream",
     "text": [
      "Requirement already satisfied: ultralytics in c:\\users\\aashish\\appdata\\local\\programs\\python\\python38\\lib\\site-packages (8.3.105)\n",
      "Requirement already satisfied: numpy<=2.1.1,>=1.23.0 in c:\\users\\aashish\\appdata\\local\\programs\\python\\python38\\lib\\site-packages (from ultralytics) (1.24.4)\n",
      "Requirement already satisfied: matplotlib>=3.3.0 in c:\\users\\aashish\\appdata\\local\\programs\\python\\python38\\lib\\site-packages (from ultralytics) (3.7.5)\n",
      "Requirement already satisfied: opencv-python>=4.6.0 in c:\\users\\aashish\\appdata\\local\\programs\\python\\python38\\lib\\site-packages (from ultralytics) (4.11.0.86)\n",
      "Requirement already satisfied: pillow>=7.1.2 in c:\\users\\aashish\\appdata\\local\\programs\\python\\python38\\lib\\site-packages (from ultralytics) (10.4.0)\n",
      "Requirement already satisfied: pyyaml>=5.3.1 in c:\\users\\aashish\\appdata\\local\\programs\\python\\python38\\lib\\site-packages (from ultralytics) (6.0.2)\n",
      "Requirement already satisfied: requests>=2.23.0 in c:\\users\\aashish\\appdata\\local\\programs\\python\\python38\\lib\\site-packages (from ultralytics) (2.32.3)\n",
      "Requirement already satisfied: scipy>=1.4.1 in c:\\users\\aashish\\appdata\\local\\programs\\python\\python38\\lib\\site-packages (from ultralytics) (1.10.1)\n",
      "Requirement already satisfied: torch>=1.8.0 in c:\\users\\aashish\\appdata\\local\\programs\\python\\python38\\lib\\site-packages (from ultralytics) (2.4.1)\n",
      "Requirement already satisfied: torchvision>=0.9.0 in c:\\users\\aashish\\appdata\\local\\programs\\python\\python38\\lib\\site-packages (from ultralytics) (0.19.1)\n",
      "Requirement already satisfied: tqdm>=4.64.0 in c:\\users\\aashish\\appdata\\local\\programs\\python\\python38\\lib\\site-packages (from ultralytics) (4.67.1)\n",
      "Requirement already satisfied: psutil in c:\\users\\aashish\\appdata\\local\\programs\\python\\python38\\lib\\site-packages (from ultralytics) (7.0.0)\n",
      "Requirement already satisfied: py-cpuinfo in c:\\users\\aashish\\appdata\\local\\programs\\python\\python38\\lib\\site-packages (from ultralytics) (9.0.0)\n",
      "Requirement already satisfied: pandas>=1.1.4 in c:\\users\\aashish\\appdata\\local\\programs\\python\\python38\\lib\\site-packages (from ultralytics) (2.0.3)\n",
      "Requirement already satisfied: seaborn>=0.11.0 in c:\\users\\aashish\\appdata\\local\\programs\\python\\python38\\lib\\site-packages (from ultralytics) (0.13.2)\n",
      "Requirement already satisfied: ultralytics-thop>=2.0.0 in c:\\users\\aashish\\appdata\\local\\programs\\python\\python38\\lib\\site-packages (from ultralytics) (2.0.14)\n",
      "Requirement already satisfied: contourpy>=1.0.1 in c:\\users\\aashish\\appdata\\local\\programs\\python\\python38\\lib\\site-packages (from matplotlib>=3.3.0->ultralytics) (1.1.1)\n",
      "Requirement already satisfied: cycler>=0.10 in c:\\users\\aashish\\appdata\\local\\programs\\python\\python38\\lib\\site-packages (from matplotlib>=3.3.0->ultralytics) (0.12.1)\n",
      "Requirement already satisfied: fonttools>=4.22.0 in c:\\users\\aashish\\appdata\\local\\programs\\python\\python38\\lib\\site-packages (from matplotlib>=3.3.0->ultralytics) (4.57.0)\n",
      "Requirement already satisfied: kiwisolver>=1.0.1 in c:\\users\\aashish\\appdata\\local\\programs\\python\\python38\\lib\\site-packages (from matplotlib>=3.3.0->ultralytics) (1.4.7)\n",
      "Requirement already satisfied: packaging>=20.0 in c:\\users\\aashish\\appdata\\local\\programs\\python\\python38\\lib\\site-packages (from matplotlib>=3.3.0->ultralytics) (24.2)\n",
      "Requirement already satisfied: pyparsing>=2.3.1 in c:\\users\\aashish\\appdata\\local\\programs\\python\\python38\\lib\\site-packages (from matplotlib>=3.3.0->ultralytics) (3.1.4)\n",
      "Requirement already satisfied: python-dateutil>=2.7 in c:\\users\\aashish\\appdata\\local\\programs\\python\\python38\\lib\\site-packages (from matplotlib>=3.3.0->ultralytics) (2.9.0.post0)\n",
      "Requirement already satisfied: importlib-resources>=3.2.0 in c:\\users\\aashish\\appdata\\local\\programs\\python\\python38\\lib\\site-packages (from matplotlib>=3.3.0->ultralytics) (6.4.5)\n",
      "Requirement already satisfied: pytz>=2020.1 in c:\\users\\aashish\\appdata\\local\\programs\\python\\python38\\lib\\site-packages (from pandas>=1.1.4->ultralytics) (2025.2)\n",
      "Requirement already satisfied: tzdata>=2022.1 in c:\\users\\aashish\\appdata\\local\\programs\\python\\python38\\lib\\site-packages (from pandas>=1.1.4->ultralytics) (2025.2)\n",
      "Requirement already satisfied: charset-normalizer<4,>=2 in c:\\users\\aashish\\appdata\\local\\programs\\python\\python38\\lib\\site-packages (from requests>=2.23.0->ultralytics) (3.4.1)\n",
      "Requirement already satisfied: idna<4,>=2.5 in c:\\users\\aashish\\appdata\\local\\programs\\python\\python38\\lib\\site-packages (from requests>=2.23.0->ultralytics) (3.10)\n",
      "Requirement already satisfied: urllib3<3,>=1.21.1 in c:\\users\\aashish\\appdata\\local\\programs\\python\\python38\\lib\\site-packages (from requests>=2.23.0->ultralytics) (2.2.3)\n",
      "Requirement already satisfied: certifi>=2017.4.17 in c:\\users\\aashish\\appdata\\local\\programs\\python\\python38\\lib\\site-packages (from requests>=2.23.0->ultralytics) (2025.1.31)\n",
      "Requirement already satisfied: filelock in c:\\users\\aashish\\appdata\\local\\programs\\python\\python38\\lib\\site-packages (from torch>=1.8.0->ultralytics) (3.16.1)\n",
      "Requirement already satisfied: typing-extensions>=4.8.0 in c:\\users\\aashish\\appdata\\local\\programs\\python\\python38\\lib\\site-packages (from torch>=1.8.0->ultralytics) (4.13.1)\n",
      "Requirement already satisfied: sympy in c:\\users\\aashish\\appdata\\local\\programs\\python\\python38\\lib\\site-packages (from torch>=1.8.0->ultralytics) (1.13.3)\n",
      "Requirement already satisfied: networkx in c:\\users\\aashish\\appdata\\local\\programs\\python\\python38\\lib\\site-packages (from torch>=1.8.0->ultralytics) (3.1)\n",
      "Requirement already satisfied: jinja2 in c:\\users\\aashish\\appdata\\local\\programs\\python\\python38\\lib\\site-packages (from torch>=1.8.0->ultralytics) (3.1.6)\n",
      "Requirement already satisfied: fsspec in c:\\users\\aashish\\appdata\\local\\programs\\python\\python38\\lib\\site-packages (from torch>=1.8.0->ultralytics) (2025.3.0)\n",
      "Requirement already satisfied: colorama in c:\\users\\aashish\\appdata\\local\\programs\\python\\python38\\lib\\site-packages (from tqdm>=4.64.0->ultralytics) (0.4.6)\n",
      "Requirement already satisfied: zipp>=3.1.0 in c:\\users\\aashish\\appdata\\local\\programs\\python\\python38\\lib\\site-packages (from importlib-resources>=3.2.0->matplotlib>=3.3.0->ultralytics) (3.20.2)\n",
      "Requirement already satisfied: six>=1.5 in c:\\users\\aashish\\appdata\\local\\programs\\python\\python38\\lib\\site-packages (from python-dateutil>=2.7->matplotlib>=3.3.0->ultralytics) (1.17.0)\n",
      "Requirement already satisfied: MarkupSafe>=2.0 in c:\\users\\aashish\\appdata\\local\\programs\\python\\python38\\lib\\site-packages (from jinja2->torch>=1.8.0->ultralytics) (2.1.5)\n",
      "Requirement already satisfied: mpmath<1.4,>=1.1.0 in c:\\users\\aashish\\appdata\\local\\programs\\python\\python38\\lib\\site-packages (from sympy->torch>=1.8.0->ultralytics) (1.3.0)\n"
     ]
    }
   ],
   "source": [
    "!pip install ultralytics\n"
   ]
  },
  {
   "cell_type": "code",
   "execution_count": 4,
   "metadata": {},
   "outputs": [
    {
     "name": "stdout",
     "output_type": "stream",
     "text": [
      "NumPy version: 2.2.5\n",
      "Dataset exists: True\n",
      "Model loaded successfully\n",
      "Ultralytics 8.3.127  Python-3.12.5 torch-2.7.0+cpu CPU (11th Gen Intel Core(TM) i5-1155G7 2.50GHz)\n",
      "\u001b[34m\u001b[1mengine\\trainer: \u001b[0magnostic_nms=False, amp=True, augment=True, auto_augment=randaugment, batch=16, bgr=0.0, box=7.5, cache=False, cfg=None, classes=None, close_mosaic=10, cls=0.5, conf=None, copy_paste=0.0, copy_paste_mode=flip, cos_lr=False, cutmix=0.0, data=D:/2NDTRY/data.yaml, degrees=0.0, deterministic=True, device=cpu, dfl=1.5, dnn=False, dropout=0.0, dynamic=False, embed=None, epochs=50, erasing=0.4, exist_ok=False, fliplr=0.5, flipud=0.0, format=torchscript, fraction=1.0, freeze=None, half=False, hsv_h=0.015, hsv_s=0.7, hsv_v=0.4, imgsz=640, int8=False, iou=0.7, keras=False, kobj=1.0, line_width=None, lr0=0.01, lrf=0.01, mask_ratio=4, max_det=300, mixup=0.0, mode=train, model=yolov8n.pt, momentum=0.937, mosaic=1.0, multi_scale=False, name=train95, nbs=64, nms=False, opset=None, optimize=False, optimizer=auto, overlap_mask=True, patience=100, perspective=0.0, plots=True, pose=12.0, pretrained=True, profile=False, project=None, rect=False, resume=False, retina_masks=False, save=True, save_conf=False, save_crop=False, save_dir=runs\\detect\\train95, save_frames=False, save_json=False, save_period=-1, save_txt=False, scale=0.5, seed=0, shear=0.0, show=False, show_boxes=True, show_conf=True, show_labels=True, simplify=True, single_cls=False, source=None, split=val, stream_buffer=False, task=detect, time=None, tracker=botsort.yaml, translate=0.1, val=True, verbose=True, vid_stride=1, visualize=False, warmup_bias_lr=0.1, warmup_epochs=3.0, warmup_momentum=0.8, weight_decay=0.0005, workers=8, workspace=None\n",
      "Overriding model.yaml nc=80 with nc=23\n",
      "\n",
      "                   from  n    params  module                                       arguments                     \n",
      "  0                  -1  1       464  ultralytics.nn.modules.conv.Conv             [3, 16, 3, 2]                 \n",
      "  1                  -1  1      4672  ultralytics.nn.modules.conv.Conv             [16, 32, 3, 2]                \n",
      "  2                  -1  1      7360  ultralytics.nn.modules.block.C2f             [32, 32, 1, True]             \n",
      "  3                  -1  1     18560  ultralytics.nn.modules.conv.Conv             [32, 64, 3, 2]                \n",
      "  4                  -1  2     49664  ultralytics.nn.modules.block.C2f             [64, 64, 2, True]             \n",
      "  5                  -1  1     73984  ultralytics.nn.modules.conv.Conv             [64, 128, 3, 2]               \n",
      "  6                  -1  2    197632  ultralytics.nn.modules.block.C2f             [128, 128, 2, True]           \n",
      "  7                  -1  1    295424  ultralytics.nn.modules.conv.Conv             [128, 256, 3, 2]              \n",
      "  8                  -1  1    460288  ultralytics.nn.modules.block.C2f             [256, 256, 1, True]           \n",
      "  9                  -1  1    164608  ultralytics.nn.modules.block.SPPF            [256, 256, 5]                 \n",
      " 10                  -1  1         0  torch.nn.modules.upsampling.Upsample         [None, 2, 'nearest']          \n",
      " 11             [-1, 6]  1         0  ultralytics.nn.modules.conv.Concat           [1]                           \n",
      " 12                  -1  1    148224  ultralytics.nn.modules.block.C2f             [384, 128, 1]                 \n",
      " 13                  -1  1         0  torch.nn.modules.upsampling.Upsample         [None, 2, 'nearest']          \n",
      " 14             [-1, 4]  1         0  ultralytics.nn.modules.conv.Concat           [1]                           \n",
      " 15                  -1  1     37248  ultralytics.nn.modules.block.C2f             [192, 64, 1]                  \n",
      " 16                  -1  1     36992  ultralytics.nn.modules.conv.Conv             [64, 64, 3, 2]                \n",
      " 17            [-1, 12]  1         0  ultralytics.nn.modules.conv.Concat           [1]                           \n",
      " 18                  -1  1    123648  ultralytics.nn.modules.block.C2f             [192, 128, 1]                 \n",
      " 19                  -1  1    147712  ultralytics.nn.modules.conv.Conv             [128, 128, 3, 2]              \n",
      " 20             [-1, 9]  1         0  ultralytics.nn.modules.conv.Concat           [1]                           \n",
      " 21                  -1  1    493056  ultralytics.nn.modules.block.C2f             [384, 256, 1]                 \n",
      " 22        [15, 18, 21]  1    755797  ultralytics.nn.modules.head.Detect           [23, [64, 128, 256]]          \n",
      "Model summary: 129 layers, 3,015,333 parameters, 3,015,317 gradients, 8.2 GFLOPs\n",
      "\n",
      "Transferred 319/355 items from pretrained weights\n",
      "Freezing layer 'model.22.dfl.conv.weight'\n",
      "\u001b[34m\u001b[1mtrain: \u001b[0mFast image access  (ping: 0.40.1 ms, read: 4.70.5 MB/s, size: 55.1 KB)\n"
     ]
    },
    {
     "name": "stderr",
     "output_type": "stream",
     "text": [
      "\u001b[34m\u001b[1mtrain: \u001b[0mScanning D:\\2NDTRY\\train\\labels.cache... 149 images, 0 backgrounds, 0 corrupt: 100%|██████████| 149/149 [00:00<?, ?it/s]"
     ]
    },
    {
     "name": "stdout",
     "output_type": "stream",
     "text": [
      "\u001b[34m\u001b[1mval: \u001b[0mFast image access  (ping: 0.20.1 ms, read: 4.31.1 MB/s, size: 42.4 KB)\n"
     ]
    },
    {
     "name": "stderr",
     "output_type": "stream",
     "text": [
      "\n",
      "d:\\2NDTRY\\.venv\\Lib\\site-packages\\torch\\utils\\data\\dataloader.py:665: UserWarning: 'pin_memory' argument is set as true but no accelerator is found, then device pinned memory won't be used.\n",
      "  warnings.warn(warn_msg)\n",
      "\u001b[34m\u001b[1mval: \u001b[0mScanning D:\\2NDTRY\\valid\\labels.cache... 43 images, 0 backgrounds, 0 corrupt: 100%|██████████| 43/43 [00:00<?, ?it/s]\n",
      "d:\\2NDTRY\\.venv\\Lib\\site-packages\\torch\\utils\\data\\dataloader.py:665: UserWarning: 'pin_memory' argument is set as true but no accelerator is found, then device pinned memory won't be used.\n",
      "  warnings.warn(warn_msg)\n"
     ]
    },
    {
     "name": "stdout",
     "output_type": "stream",
     "text": [
      "Plotting labels to runs\\detect\\train95\\labels.jpg... \n",
      "\u001b[34m\u001b[1moptimizer:\u001b[0m 'optimizer=auto' found, ignoring 'lr0=0.01' and 'momentum=0.937' and determining best 'optimizer', 'lr0' and 'momentum' automatically... \n",
      "\u001b[34m\u001b[1moptimizer:\u001b[0m AdamW(lr=0.00037, momentum=0.9) with parameter groups 57 weight(decay=0.0), 64 weight(decay=0.0005), 63 bias(decay=0.0)\n",
      "Image sizes 640 train, 640 val\n",
      "Using 0 dataloader workers\n",
      "Logging results to \u001b[1mruns\\detect\\train95\u001b[0m\n",
      "Starting training for 50 epochs...\n",
      "\n",
      "      Epoch    GPU_mem   box_loss   cls_loss   dfl_loss  Instances       Size\n"
     ]
    },
    {
     "name": "stderr",
     "output_type": "stream",
     "text": [
      "       1/50         0G      1.193      4.202      1.575         12        640: 100%|██████████| 10/10 [01:08<00:00,  6.84s/it]\n",
      "                 Class     Images  Instances      Box(P          R      mAP50  mAP50-95): 100%|██████████| 2/2 [00:06<00:00,  3.43s/it]"
     ]
    },
    {
     "name": "stdout",
     "output_type": "stream",
     "text": [
      "                   all         43         54          0          0          0          0\n"
     ]
    },
    {
     "name": "stderr",
     "output_type": "stream",
     "text": [
      "\n"
     ]
    },
    {
     "name": "stdout",
     "output_type": "stream",
     "text": [
      "\n",
      "      Epoch    GPU_mem   box_loss   cls_loss   dfl_loss  Instances       Size\n"
     ]
    },
    {
     "name": "stderr",
     "output_type": "stream",
     "text": [
      "       2/50         0G      1.119      4.119      1.559         11        640: 100%|██████████| 10/10 [01:04<00:00,  6.44s/it]\n",
      "                 Class     Images  Instances      Box(P          R      mAP50  mAP50-95): 100%|██████████| 2/2 [00:05<00:00,  2.61s/it]"
     ]
    },
    {
     "name": "stdout",
     "output_type": "stream",
     "text": [
      "                   all         43         54          0          0          0          0\n"
     ]
    },
    {
     "name": "stderr",
     "output_type": "stream",
     "text": [
      "\n"
     ]
    },
    {
     "name": "stdout",
     "output_type": "stream",
     "text": [
      "\n",
      "      Epoch    GPU_mem   box_loss   cls_loss   dfl_loss  Instances       Size\n"
     ]
    },
    {
     "name": "stderr",
     "output_type": "stream",
     "text": [
      "       3/50         0G      1.099      3.902      1.515         22        640: 100%|██████████| 10/10 [00:53<00:00,  5.34s/it]\n",
      "                 Class     Images  Instances      Box(P          R      mAP50  mAP50-95): 100%|██████████| 2/2 [00:05<00:00,  2.65s/it]"
     ]
    },
    {
     "name": "stdout",
     "output_type": "stream",
     "text": [
      "                   all         43         54     0.0149     0.0433     0.0233     0.0193\n"
     ]
    },
    {
     "name": "stderr",
     "output_type": "stream",
     "text": [
      "\n"
     ]
    },
    {
     "name": "stdout",
     "output_type": "stream",
     "text": [
      "\n",
      "      Epoch    GPU_mem   box_loss   cls_loss   dfl_loss  Instances       Size\n"
     ]
    },
    {
     "name": "stderr",
     "output_type": "stream",
     "text": [
      "       4/50         0G      1.079      3.678      1.476         11        640: 100%|██████████| 10/10 [00:54<00:00,  5.48s/it]\n",
      "                 Class     Images  Instances      Box(P          R      mAP50  mAP50-95): 100%|██████████| 2/2 [00:05<00:00,  2.68s/it]"
     ]
    },
    {
     "name": "stdout",
     "output_type": "stream",
     "text": [
      "                   all         43         54    0.00451     0.0952     0.0725     0.0547\n"
     ]
    },
    {
     "name": "stderr",
     "output_type": "stream",
     "text": [
      "\n"
     ]
    },
    {
     "name": "stdout",
     "output_type": "stream",
     "text": [
      "\n",
      "      Epoch    GPU_mem   box_loss   cls_loss   dfl_loss  Instances       Size\n"
     ]
    },
    {
     "name": "stderr",
     "output_type": "stream",
     "text": [
      "       5/50         0G      1.067      3.489      1.402         12        640: 100%|██████████| 10/10 [00:54<00:00,  5.43s/it]\n",
      "                 Class     Images  Instances      Box(P          R      mAP50  mAP50-95): 100%|██████████| 2/2 [00:05<00:00,  2.66s/it]"
     ]
    },
    {
     "name": "stdout",
     "output_type": "stream",
     "text": [
      "                   all         43         54     0.0245      0.378     0.0948     0.0519\n"
     ]
    },
    {
     "name": "stderr",
     "output_type": "stream",
     "text": [
      "\n"
     ]
    },
    {
     "name": "stdout",
     "output_type": "stream",
     "text": [
      "\n",
      "      Epoch    GPU_mem   box_loss   cls_loss   dfl_loss  Instances       Size\n"
     ]
    },
    {
     "name": "stderr",
     "output_type": "stream",
     "text": [
      "       6/50         0G      1.081      3.276      1.444         15        640: 100%|██████████| 10/10 [00:53<00:00,  5.32s/it]\n",
      "                 Class     Images  Instances      Box(P          R      mAP50  mAP50-95): 100%|██████████| 2/2 [00:05<00:00,  2.63s/it]"
     ]
    },
    {
     "name": "stdout",
     "output_type": "stream",
     "text": [
      "                   all         43         54     0.0639      0.413      0.142     0.0829\n"
     ]
    },
    {
     "name": "stderr",
     "output_type": "stream",
     "text": [
      "\n"
     ]
    },
    {
     "name": "stdout",
     "output_type": "stream",
     "text": [
      "\n",
      "      Epoch    GPU_mem   box_loss   cls_loss   dfl_loss  Instances       Size\n"
     ]
    },
    {
     "name": "stderr",
     "output_type": "stream",
     "text": [
      "       7/50         0G      1.076      3.071      1.467         15        640: 100%|██████████| 10/10 [00:53<00:00,  5.36s/it]\n",
      "                 Class     Images  Instances      Box(P          R      mAP50  mAP50-95): 100%|██████████| 2/2 [00:05<00:00,  2.58s/it]"
     ]
    },
    {
     "name": "stdout",
     "output_type": "stream",
     "text": [
      "                   all         43         54       0.76     0.0839      0.143     0.0896\n"
     ]
    },
    {
     "name": "stderr",
     "output_type": "stream",
     "text": [
      "\n"
     ]
    },
    {
     "name": "stdout",
     "output_type": "stream",
     "text": [
      "\n",
      "      Epoch    GPU_mem   box_loss   cls_loss   dfl_loss  Instances       Size\n"
     ]
    },
    {
     "name": "stderr",
     "output_type": "stream",
     "text": [
      "       8/50         0G      1.113      3.058      1.541         17        640: 100%|██████████| 10/10 [00:52<00:00,  5.21s/it]\n",
      "                 Class     Images  Instances      Box(P          R      mAP50  mAP50-95): 100%|██████████| 2/2 [00:05<00:00,  2.81s/it]"
     ]
    },
    {
     "name": "stdout",
     "output_type": "stream",
     "text": [
      "                   all         43         54     0.0553      0.683      0.201      0.129\n"
     ]
    },
    {
     "name": "stderr",
     "output_type": "stream",
     "text": [
      "\n"
     ]
    },
    {
     "name": "stdout",
     "output_type": "stream",
     "text": [
      "\n",
      "      Epoch    GPU_mem   box_loss   cls_loss   dfl_loss  Instances       Size\n"
     ]
    },
    {
     "name": "stderr",
     "output_type": "stream",
     "text": [
      "       9/50         0G      1.118      3.027      1.519         12        640: 100%|██████████| 10/10 [00:52<00:00,  5.30s/it]\n",
      "                 Class     Images  Instances      Box(P          R      mAP50  mAP50-95): 100%|██████████| 2/2 [00:05<00:00,  2.59s/it]"
     ]
    },
    {
     "name": "stdout",
     "output_type": "stream",
     "text": [
      "                   all         43         54     0.0389      0.833      0.239      0.148\n"
     ]
    },
    {
     "name": "stderr",
     "output_type": "stream",
     "text": [
      "\n"
     ]
    },
    {
     "name": "stdout",
     "output_type": "stream",
     "text": [
      "\n",
      "      Epoch    GPU_mem   box_loss   cls_loss   dfl_loss  Instances       Size\n"
     ]
    },
    {
     "name": "stderr",
     "output_type": "stream",
     "text": [
      "      10/50         0G       1.09      2.853      1.499         18        640: 100%|██████████| 10/10 [00:53<00:00,  5.37s/it]\n",
      "                 Class     Images  Instances      Box(P          R      mAP50  mAP50-95): 100%|██████████| 2/2 [00:05<00:00,  2.64s/it]"
     ]
    },
    {
     "name": "stdout",
     "output_type": "stream",
     "text": [
      "                   all         43         54      0.819       0.15        0.3      0.185\n"
     ]
    },
    {
     "name": "stderr",
     "output_type": "stream",
     "text": [
      "\n"
     ]
    },
    {
     "name": "stdout",
     "output_type": "stream",
     "text": [
      "\n",
      "      Epoch    GPU_mem   box_loss   cls_loss   dfl_loss  Instances       Size\n"
     ]
    },
    {
     "name": "stderr",
     "output_type": "stream",
     "text": [
      "      11/50         0G      1.009       2.71      1.462         16        640: 100%|██████████| 10/10 [00:53<00:00,  5.33s/it]\n",
      "                 Class     Images  Instances      Box(P          R      mAP50  mAP50-95): 100%|██████████| 2/2 [00:05<00:00,  2.59s/it]"
     ]
    },
    {
     "name": "stdout",
     "output_type": "stream",
     "text": [
      "                   all         43         54      0.777      0.186      0.317      0.189\n"
     ]
    },
    {
     "name": "stderr",
     "output_type": "stream",
     "text": [
      "\n"
     ]
    },
    {
     "name": "stdout",
     "output_type": "stream",
     "text": [
      "\n",
      "      Epoch    GPU_mem   box_loss   cls_loss   dfl_loss  Instances       Size\n"
     ]
    },
    {
     "name": "stderr",
     "output_type": "stream",
     "text": [
      "      12/50         0G      1.065      2.736      1.496         17        640: 100%|██████████| 10/10 [00:52<00:00,  5.21s/it]\n",
      "                 Class     Images  Instances      Box(P          R      mAP50  mAP50-95): 100%|██████████| 2/2 [00:05<00:00,  2.70s/it]"
     ]
    },
    {
     "name": "stdout",
     "output_type": "stream",
     "text": [
      "                   all         43         54      0.453      0.238      0.342      0.201\n"
     ]
    },
    {
     "name": "stderr",
     "output_type": "stream",
     "text": [
      "\n"
     ]
    },
    {
     "name": "stdout",
     "output_type": "stream",
     "text": [
      "\n",
      "      Epoch    GPU_mem   box_loss   cls_loss   dfl_loss  Instances       Size\n"
     ]
    },
    {
     "name": "stderr",
     "output_type": "stream",
     "text": [
      "      13/50         0G      1.023       2.45       1.42         17        640: 100%|██████████| 10/10 [00:52<00:00,  5.24s/it]\n",
      "                 Class     Images  Instances      Box(P          R      mAP50  mAP50-95): 100%|██████████| 2/2 [00:05<00:00,  2.81s/it]"
     ]
    },
    {
     "name": "stdout",
     "output_type": "stream",
     "text": [
      "                   all         43         54      0.444      0.331      0.356      0.206\n"
     ]
    },
    {
     "name": "stderr",
     "output_type": "stream",
     "text": [
      "\n"
     ]
    },
    {
     "name": "stdout",
     "output_type": "stream",
     "text": [
      "\n",
      "      Epoch    GPU_mem   box_loss   cls_loss   dfl_loss  Instances       Size\n"
     ]
    },
    {
     "name": "stderr",
     "output_type": "stream",
     "text": [
      "      14/50         0G      1.072      2.586      1.552          8        640: 100%|██████████| 10/10 [00:52<00:00,  5.23s/it]\n",
      "                 Class     Images  Instances      Box(P          R      mAP50  mAP50-95): 100%|██████████| 2/2 [00:05<00:00,  2.64s/it]"
     ]
    },
    {
     "name": "stdout",
     "output_type": "stream",
     "text": [
      "                   all         43         54      0.418      0.343      0.356      0.224\n"
     ]
    },
    {
     "name": "stderr",
     "output_type": "stream",
     "text": [
      "\n"
     ]
    },
    {
     "name": "stdout",
     "output_type": "stream",
     "text": [
      "\n",
      "      Epoch    GPU_mem   box_loss   cls_loss   dfl_loss  Instances       Size\n"
     ]
    },
    {
     "name": "stderr",
     "output_type": "stream",
     "text": [
      "      15/50         0G     0.9952      2.368      1.434         16        640: 100%|██████████| 10/10 [00:52<00:00,  5.25s/it]\n",
      "                 Class     Images  Instances      Box(P          R      mAP50  mAP50-95): 100%|██████████| 2/2 [00:05<00:00,  2.69s/it]"
     ]
    },
    {
     "name": "stdout",
     "output_type": "stream",
     "text": [
      "                   all         43         54      0.388      0.402      0.357      0.216\n"
     ]
    },
    {
     "name": "stderr",
     "output_type": "stream",
     "text": [
      "\n"
     ]
    },
    {
     "name": "stdout",
     "output_type": "stream",
     "text": [
      "\n",
      "      Epoch    GPU_mem   box_loss   cls_loss   dfl_loss  Instances       Size\n"
     ]
    },
    {
     "name": "stderr",
     "output_type": "stream",
     "text": [
      "      16/50         0G      1.086      2.417      1.495         11        640: 100%|██████████| 10/10 [00:53<00:00,  5.32s/it]\n",
      "                 Class     Images  Instances      Box(P          R      mAP50  mAP50-95): 100%|██████████| 2/2 [00:05<00:00,  2.74s/it]"
     ]
    },
    {
     "name": "stdout",
     "output_type": "stream",
     "text": [
      "                   all         43         54       0.46      0.407      0.406      0.216\n"
     ]
    },
    {
     "name": "stderr",
     "output_type": "stream",
     "text": [
      "\n"
     ]
    },
    {
     "name": "stdout",
     "output_type": "stream",
     "text": [
      "\n",
      "      Epoch    GPU_mem   box_loss   cls_loss   dfl_loss  Instances       Size\n"
     ]
    },
    {
     "name": "stderr",
     "output_type": "stream",
     "text": [
      "      17/50         0G      1.054      2.403      1.451          9        640: 100%|██████████| 10/10 [00:55<00:00,  5.57s/it]\n",
      "                 Class     Images  Instances      Box(P          R      mAP50  mAP50-95): 100%|██████████| 2/2 [00:05<00:00,  2.65s/it]"
     ]
    },
    {
     "name": "stdout",
     "output_type": "stream",
     "text": [
      "                   all         43         54      0.413      0.523       0.43      0.228\n"
     ]
    },
    {
     "name": "stderr",
     "output_type": "stream",
     "text": [
      "\n"
     ]
    },
    {
     "name": "stdout",
     "output_type": "stream",
     "text": [
      "\n",
      "      Epoch    GPU_mem   box_loss   cls_loss   dfl_loss  Instances       Size\n"
     ]
    },
    {
     "name": "stderr",
     "output_type": "stream",
     "text": [
      "      18/50         0G     0.9989      2.137      1.425         12        640: 100%|██████████| 10/10 [00:53<00:00,  5.33s/it]\n",
      "                 Class     Images  Instances      Box(P          R      mAP50  mAP50-95): 100%|██████████| 2/2 [00:05<00:00,  2.64s/it]"
     ]
    },
    {
     "name": "stdout",
     "output_type": "stream",
     "text": [
      "                   all         43         54      0.433      0.404      0.454      0.278\n"
     ]
    },
    {
     "name": "stderr",
     "output_type": "stream",
     "text": [
      "\n"
     ]
    },
    {
     "name": "stdout",
     "output_type": "stream",
     "text": [
      "\n",
      "      Epoch    GPU_mem   box_loss   cls_loss   dfl_loss  Instances       Size\n"
     ]
    },
    {
     "name": "stderr",
     "output_type": "stream",
     "text": [
      "      19/50         0G      1.068      2.357      1.518         13        640: 100%|██████████| 10/10 [00:53<00:00,  5.39s/it]\n",
      "                 Class     Images  Instances      Box(P          R      mAP50  mAP50-95): 100%|██████████| 2/2 [00:06<00:00,  3.07s/it]"
     ]
    },
    {
     "name": "stdout",
     "output_type": "stream",
     "text": [
      "                   all         43         54      0.405      0.428      0.425      0.259\n"
     ]
    },
    {
     "name": "stderr",
     "output_type": "stream",
     "text": [
      "\n"
     ]
    },
    {
     "name": "stdout",
     "output_type": "stream",
     "text": [
      "\n",
      "      Epoch    GPU_mem   box_loss   cls_loss   dfl_loss  Instances       Size\n"
     ]
    },
    {
     "name": "stderr",
     "output_type": "stream",
     "text": [
      "      20/50         0G     0.9725      2.137      1.413         12        640: 100%|██████████| 10/10 [00:53<00:00,  5.37s/it]\n",
      "                 Class     Images  Instances      Box(P          R      mAP50  mAP50-95): 100%|██████████| 2/2 [00:05<00:00,  2.57s/it]"
     ]
    },
    {
     "name": "stdout",
     "output_type": "stream",
     "text": [
      "                   all         43         54      0.388      0.645      0.552      0.353\n"
     ]
    },
    {
     "name": "stderr",
     "output_type": "stream",
     "text": [
      "\n"
     ]
    },
    {
     "name": "stdout",
     "output_type": "stream",
     "text": [
      "\n",
      "      Epoch    GPU_mem   box_loss   cls_loss   dfl_loss  Instances       Size\n"
     ]
    },
    {
     "name": "stderr",
     "output_type": "stream",
     "text": [
      "      21/50         0G      1.017      2.087       1.47         16        640: 100%|██████████| 10/10 [00:54<00:00,  5.43s/it]\n",
      "                 Class     Images  Instances      Box(P          R      mAP50  mAP50-95): 100%|██████████| 2/2 [00:05<00:00,  2.78s/it]"
     ]
    },
    {
     "name": "stdout",
     "output_type": "stream",
     "text": [
      "                   all         43         54      0.402      0.582      0.592      0.375\n"
     ]
    },
    {
     "name": "stderr",
     "output_type": "stream",
     "text": [
      "\n"
     ]
    },
    {
     "name": "stdout",
     "output_type": "stream",
     "text": [
      "\n",
      "      Epoch    GPU_mem   box_loss   cls_loss   dfl_loss  Instances       Size\n"
     ]
    },
    {
     "name": "stderr",
     "output_type": "stream",
     "text": [
      "      22/50         0G       1.02      2.139      1.435         18        640: 100%|██████████| 10/10 [00:55<00:00,  5.55s/it]\n",
      "                 Class     Images  Instances      Box(P          R      mAP50  mAP50-95): 100%|██████████| 2/2 [00:05<00:00,  2.66s/it]"
     ]
    },
    {
     "name": "stdout",
     "output_type": "stream",
     "text": [
      "                   all         43         54      0.459      0.608      0.648      0.402\n"
     ]
    },
    {
     "name": "stderr",
     "output_type": "stream",
     "text": [
      "\n"
     ]
    },
    {
     "name": "stdout",
     "output_type": "stream",
     "text": [
      "\n",
      "      Epoch    GPU_mem   box_loss   cls_loss   dfl_loss  Instances       Size\n"
     ]
    },
    {
     "name": "stderr",
     "output_type": "stream",
     "text": [
      "      23/50         0G      1.004      2.049      1.438         14        640: 100%|██████████| 10/10 [00:54<00:00,  5.46s/it]\n",
      "                 Class     Images  Instances      Box(P          R      mAP50  mAP50-95): 100%|██████████| 2/2 [00:05<00:00,  2.66s/it]"
     ]
    },
    {
     "name": "stdout",
     "output_type": "stream",
     "text": [
      "                   all         43         54       0.51      0.597      0.685      0.396\n"
     ]
    },
    {
     "name": "stderr",
     "output_type": "stream",
     "text": [
      "\n"
     ]
    },
    {
     "name": "stdout",
     "output_type": "stream",
     "text": [
      "\n",
      "      Epoch    GPU_mem   box_loss   cls_loss   dfl_loss  Instances       Size\n"
     ]
    },
    {
     "name": "stderr",
     "output_type": "stream",
     "text": [
      "      24/50         0G     0.9579       1.92      1.411         17        640: 100%|██████████| 10/10 [00:57<00:00,  5.75s/it]\n",
      "                 Class     Images  Instances      Box(P          R      mAP50  mAP50-95): 100%|██████████| 2/2 [00:05<00:00,  2.60s/it]"
     ]
    },
    {
     "name": "stdout",
     "output_type": "stream",
     "text": [
      "                   all         43         54      0.636      0.609       0.73      0.434\n"
     ]
    },
    {
     "name": "stderr",
     "output_type": "stream",
     "text": [
      "\n"
     ]
    },
    {
     "name": "stdout",
     "output_type": "stream",
     "text": [
      "\n",
      "      Epoch    GPU_mem   box_loss   cls_loss   dfl_loss  Instances       Size\n"
     ]
    },
    {
     "name": "stderr",
     "output_type": "stream",
     "text": [
      "      25/50         0G     0.9146      1.958      1.399         17        640: 100%|██████████| 10/10 [00:55<00:00,  5.56s/it]\n",
      "                 Class     Images  Instances      Box(P          R      mAP50  mAP50-95): 100%|██████████| 2/2 [00:05<00:00,  2.86s/it]"
     ]
    },
    {
     "name": "stdout",
     "output_type": "stream",
     "text": [
      "                   all         43         54      0.789      0.474      0.765      0.457\n"
     ]
    },
    {
     "name": "stderr",
     "output_type": "stream",
     "text": [
      "\n"
     ]
    },
    {
     "name": "stdout",
     "output_type": "stream",
     "text": [
      "\n",
      "      Epoch    GPU_mem   box_loss   cls_loss   dfl_loss  Instances       Size\n"
     ]
    },
    {
     "name": "stderr",
     "output_type": "stream",
     "text": [
      "      26/50         0G     0.9946      1.909      1.418         18        640: 100%|██████████| 10/10 [00:55<00:00,  5.51s/it]\n",
      "                 Class     Images  Instances      Box(P          R      mAP50  mAP50-95): 100%|██████████| 2/2 [00:05<00:00,  2.66s/it]"
     ]
    },
    {
     "name": "stdout",
     "output_type": "stream",
     "text": [
      "                   all         43         54      0.749      0.551      0.747      0.432\n"
     ]
    },
    {
     "name": "stderr",
     "output_type": "stream",
     "text": [
      "\n"
     ]
    },
    {
     "name": "stdout",
     "output_type": "stream",
     "text": [
      "\n",
      "      Epoch    GPU_mem   box_loss   cls_loss   dfl_loss  Instances       Size\n"
     ]
    },
    {
     "name": "stderr",
     "output_type": "stream",
     "text": [
      "      27/50         0G     0.9744      1.875      1.418         13        640: 100%|██████████| 10/10 [00:54<00:00,  5.44s/it]\n",
      "                 Class     Images  Instances      Box(P          R      mAP50  mAP50-95): 100%|██████████| 2/2 [00:05<00:00,  2.64s/it]"
     ]
    },
    {
     "name": "stdout",
     "output_type": "stream",
     "text": [
      "                   all         43         54      0.757      0.555      0.706      0.423\n"
     ]
    },
    {
     "name": "stderr",
     "output_type": "stream",
     "text": [
      "\n"
     ]
    },
    {
     "name": "stdout",
     "output_type": "stream",
     "text": [
      "\n",
      "      Epoch    GPU_mem   box_loss   cls_loss   dfl_loss  Instances       Size\n"
     ]
    },
    {
     "name": "stderr",
     "output_type": "stream",
     "text": [
      "      28/50         0G     0.9408      1.867      1.391         13        640: 100%|██████████| 10/10 [00:53<00:00,  5.37s/it]\n",
      "                 Class     Images  Instances      Box(P          R      mAP50  mAP50-95): 100%|██████████| 2/2 [00:05<00:00,  2.73s/it]"
     ]
    },
    {
     "name": "stdout",
     "output_type": "stream",
     "text": [
      "                   all         43         54      0.516      0.646      0.713      0.423\n"
     ]
    },
    {
     "name": "stderr",
     "output_type": "stream",
     "text": [
      "\n"
     ]
    },
    {
     "name": "stdout",
     "output_type": "stream",
     "text": [
      "\n",
      "      Epoch    GPU_mem   box_loss   cls_loss   dfl_loss  Instances       Size\n"
     ]
    },
    {
     "name": "stderr",
     "output_type": "stream",
     "text": [
      "      29/50         0G      0.934      1.732      1.429         18        640: 100%|██████████| 10/10 [00:54<00:00,  5.48s/it]\n",
      "                 Class     Images  Instances      Box(P          R      mAP50  mAP50-95): 100%|██████████| 2/2 [00:05<00:00,  2.58s/it]"
     ]
    },
    {
     "name": "stdout",
     "output_type": "stream",
     "text": [
      "                   all         43         54      0.745      0.474      0.749      0.423\n"
     ]
    },
    {
     "name": "stderr",
     "output_type": "stream",
     "text": [
      "\n"
     ]
    },
    {
     "name": "stdout",
     "output_type": "stream",
     "text": [
      "\n",
      "      Epoch    GPU_mem   box_loss   cls_loss   dfl_loss  Instances       Size\n"
     ]
    },
    {
     "name": "stderr",
     "output_type": "stream",
     "text": [
      "      30/50         0G     0.9159      1.767      1.339         10        640: 100%|██████████| 10/10 [00:53<00:00,  5.38s/it]\n",
      "                 Class     Images  Instances      Box(P          R      mAP50  mAP50-95): 100%|██████████| 2/2 [00:05<00:00,  2.80s/it]"
     ]
    },
    {
     "name": "stdout",
     "output_type": "stream",
     "text": [
      "                   all         43         54      0.488      0.639      0.754      0.416\n"
     ]
    },
    {
     "name": "stderr",
     "output_type": "stream",
     "text": [
      "\n"
     ]
    },
    {
     "name": "stdout",
     "output_type": "stream",
     "text": [
      "\n",
      "      Epoch    GPU_mem   box_loss   cls_loss   dfl_loss  Instances       Size\n"
     ]
    },
    {
     "name": "stderr",
     "output_type": "stream",
     "text": [
      "      31/50         0G     0.9404      1.733      1.381         15        640: 100%|██████████| 10/10 [00:53<00:00,  5.31s/it]\n",
      "                 Class     Images  Instances      Box(P          R      mAP50  mAP50-95): 100%|██████████| 2/2 [00:05<00:00,  2.58s/it]"
     ]
    },
    {
     "name": "stdout",
     "output_type": "stream",
     "text": [
      "                   all         43         54      0.589      0.675      0.753      0.433\n"
     ]
    },
    {
     "name": "stderr",
     "output_type": "stream",
     "text": [
      "\n"
     ]
    },
    {
     "name": "stdout",
     "output_type": "stream",
     "text": [
      "\n",
      "      Epoch    GPU_mem   box_loss   cls_loss   dfl_loss  Instances       Size\n"
     ]
    },
    {
     "name": "stderr",
     "output_type": "stream",
     "text": [
      "      32/50         0G     0.9526      1.841       1.39         10        640: 100%|██████████| 10/10 [00:55<00:00,  5.55s/it]\n",
      "                 Class     Images  Instances      Box(P          R      mAP50  mAP50-95): 100%|██████████| 2/2 [00:05<00:00,  2.65s/it]"
     ]
    },
    {
     "name": "stdout",
     "output_type": "stream",
     "text": [
      "                   all         43         54      0.584       0.75      0.775      0.458\n"
     ]
    },
    {
     "name": "stderr",
     "output_type": "stream",
     "text": [
      "\n"
     ]
    },
    {
     "name": "stdout",
     "output_type": "stream",
     "text": [
      "\n",
      "      Epoch    GPU_mem   box_loss   cls_loss   dfl_loss  Instances       Size\n"
     ]
    },
    {
     "name": "stderr",
     "output_type": "stream",
     "text": [
      "      33/50         0G     0.9009      1.719      1.366         19        640: 100%|██████████| 10/10 [00:56<00:00,  5.61s/it]\n",
      "                 Class     Images  Instances      Box(P          R      mAP50  mAP50-95): 100%|██████████| 2/2 [00:05<00:00,  2.65s/it]"
     ]
    },
    {
     "name": "stdout",
     "output_type": "stream",
     "text": [
      "                   all         43         54      0.584      0.772      0.821      0.479\n"
     ]
    },
    {
     "name": "stderr",
     "output_type": "stream",
     "text": [
      "\n"
     ]
    },
    {
     "name": "stdout",
     "output_type": "stream",
     "text": [
      "\n",
      "      Epoch    GPU_mem   box_loss   cls_loss   dfl_loss  Instances       Size\n"
     ]
    },
    {
     "name": "stderr",
     "output_type": "stream",
     "text": [
      "      34/50         0G     0.9207      1.727      1.361         13        640: 100%|██████████| 10/10 [27:21<00:00, 164.11s/it]\n",
      "                 Class     Images  Instances      Box(P          R      mAP50  mAP50-95): 100%|██████████| 2/2 [00:05<00:00,  2.69s/it]"
     ]
    },
    {
     "name": "stdout",
     "output_type": "stream",
     "text": [
      "                   all         43         54      0.557      0.764      0.836      0.493\n"
     ]
    },
    {
     "name": "stderr",
     "output_type": "stream",
     "text": [
      "\n"
     ]
    },
    {
     "name": "stdout",
     "output_type": "stream",
     "text": [
      "\n",
      "      Epoch    GPU_mem   box_loss   cls_loss   dfl_loss  Instances       Size\n"
     ]
    },
    {
     "name": "stderr",
     "output_type": "stream",
     "text": [
      "      35/50         0G     0.9569      1.728      1.396         17        640: 100%|██████████| 10/10 [00:52<00:00,  5.25s/it]\n",
      "                 Class     Images  Instances      Box(P          R      mAP50  mAP50-95): 100%|██████████| 2/2 [00:05<00:00,  2.51s/it]"
     ]
    },
    {
     "name": "stdout",
     "output_type": "stream",
     "text": [
      "                   all         43         54      0.617      0.792      0.865      0.522\n"
     ]
    },
    {
     "name": "stderr",
     "output_type": "stream",
     "text": [
      "\n"
     ]
    },
    {
     "name": "stdout",
     "output_type": "stream",
     "text": [
      "\n",
      "      Epoch    GPU_mem   box_loss   cls_loss   dfl_loss  Instances       Size\n"
     ]
    },
    {
     "name": "stderr",
     "output_type": "stream",
     "text": [
      "      36/50         0G     0.9022      1.658       1.37         15        640: 100%|██████████| 10/10 [00:59<00:00,  5.92s/it]\n",
      "                 Class     Images  Instances      Box(P          R      mAP50  mAP50-95): 100%|██████████| 2/2 [00:05<00:00,  2.75s/it]"
     ]
    },
    {
     "name": "stdout",
     "output_type": "stream",
     "text": [
      "                   all         43         54      0.643      0.765      0.855      0.527\n"
     ]
    },
    {
     "name": "stderr",
     "output_type": "stream",
     "text": [
      "\n"
     ]
    },
    {
     "name": "stdout",
     "output_type": "stream",
     "text": [
      "\n",
      "      Epoch    GPU_mem   box_loss   cls_loss   dfl_loss  Instances       Size\n"
     ]
    },
    {
     "name": "stderr",
     "output_type": "stream",
     "text": [
      "      37/50         0G     0.9076      1.638      1.378          8        640: 100%|██████████| 10/10 [01:00<00:00,  6.00s/it]\n",
      "                 Class     Images  Instances      Box(P          R      mAP50  mAP50-95): 100%|██████████| 2/2 [00:04<00:00,  2.48s/it]"
     ]
    },
    {
     "name": "stdout",
     "output_type": "stream",
     "text": [
      "                   all         43         54      0.684      0.766      0.829      0.488\n"
     ]
    },
    {
     "name": "stderr",
     "output_type": "stream",
     "text": [
      "\n"
     ]
    },
    {
     "name": "stdout",
     "output_type": "stream",
     "text": [
      "\n",
      "      Epoch    GPU_mem   box_loss   cls_loss   dfl_loss  Instances       Size\n"
     ]
    },
    {
     "name": "stderr",
     "output_type": "stream",
     "text": [
      "      38/50         0G     0.9035      1.612      1.339         19        640: 100%|██████████| 10/10 [00:50<00:00,  5.07s/it]\n",
      "                 Class     Images  Instances      Box(P          R      mAP50  mAP50-95): 100%|██████████| 2/2 [00:05<00:00,  2.69s/it]"
     ]
    },
    {
     "name": "stdout",
     "output_type": "stream",
     "text": [
      "                   all         43         54      0.724      0.753      0.868      0.519\n"
     ]
    },
    {
     "name": "stderr",
     "output_type": "stream",
     "text": [
      "\n"
     ]
    },
    {
     "name": "stdout",
     "output_type": "stream",
     "text": [
      "\n",
      "      Epoch    GPU_mem   box_loss   cls_loss   dfl_loss  Instances       Size\n"
     ]
    },
    {
     "name": "stderr",
     "output_type": "stream",
     "text": [
      "      39/50         0G     0.8746      1.598      1.311         16        640: 100%|██████████| 10/10 [00:50<00:00,  5.09s/it]\n",
      "                 Class     Images  Instances      Box(P          R      mAP50  mAP50-95): 100%|██████████| 2/2 [00:05<00:00,  2.64s/it]"
     ]
    },
    {
     "name": "stdout",
     "output_type": "stream",
     "text": [
      "                   all         43         54       0.73      0.744      0.868      0.516\n"
     ]
    },
    {
     "name": "stderr",
     "output_type": "stream",
     "text": [
      "\n"
     ]
    },
    {
     "name": "stdout",
     "output_type": "stream",
     "text": [
      "\n",
      "      Epoch    GPU_mem   box_loss   cls_loss   dfl_loss  Instances       Size\n"
     ]
    },
    {
     "name": "stderr",
     "output_type": "stream",
     "text": [
      "      40/50         0G     0.9119      1.583       1.38         16        640: 100%|██████████| 10/10 [00:49<00:00,  4.99s/it]\n",
      "                 Class     Images  Instances      Box(P          R      mAP50  mAP50-95): 100%|██████████| 2/2 [00:05<00:00,  2.59s/it]"
     ]
    },
    {
     "name": "stdout",
     "output_type": "stream",
     "text": [
      "                   all         43         54      0.682      0.817       0.86      0.513\n"
     ]
    },
    {
     "name": "stderr",
     "output_type": "stream",
     "text": [
      "\n"
     ]
    },
    {
     "name": "stdout",
     "output_type": "stream",
     "text": [
      "Closing dataloader mosaic\n",
      "\n",
      "      Epoch    GPU_mem   box_loss   cls_loss   dfl_loss  Instances       Size\n"
     ]
    },
    {
     "name": "stderr",
     "output_type": "stream",
     "text": [
      "d:\\2NDTRY\\.venv\\Lib\\site-packages\\torch\\utils\\data\\dataloader.py:665: UserWarning: 'pin_memory' argument is set as true but no accelerator is found, then device pinned memory won't be used.\n",
      "  warnings.warn(warn_msg)\n",
      "      41/50         0G     0.9622      1.987      1.522          7        640: 100%|██████████| 10/10 [00:53<00:00,  5.39s/it]\n",
      "                 Class     Images  Instances      Box(P          R      mAP50  mAP50-95): 100%|██████████| 2/2 [00:05<00:00,  2.66s/it]"
     ]
    },
    {
     "name": "stdout",
     "output_type": "stream",
     "text": [
      "                   all         43         54      0.752      0.789      0.854      0.504\n"
     ]
    },
    {
     "name": "stderr",
     "output_type": "stream",
     "text": [
      "\n"
     ]
    },
    {
     "name": "stdout",
     "output_type": "stream",
     "text": [
      "\n",
      "      Epoch    GPU_mem   box_loss   cls_loss   dfl_loss  Instances       Size\n"
     ]
    },
    {
     "name": "stderr",
     "output_type": "stream",
     "text": [
      "      42/50         0G      0.937      1.929      1.583          7        640: 100%|██████████| 10/10 [00:51<00:00,  5.20s/it]\n",
      "                 Class     Images  Instances      Box(P          R      mAP50  mAP50-95): 100%|██████████| 2/2 [00:05<00:00,  2.62s/it]"
     ]
    },
    {
     "name": "stdout",
     "output_type": "stream",
     "text": [
      "                   all         43         54      0.701       0.82       0.85      0.479\n"
     ]
    },
    {
     "name": "stderr",
     "output_type": "stream",
     "text": [
      "\n"
     ]
    },
    {
     "name": "stdout",
     "output_type": "stream",
     "text": [
      "\n",
      "      Epoch    GPU_mem   box_loss   cls_loss   dfl_loss  Instances       Size\n"
     ]
    },
    {
     "name": "stderr",
     "output_type": "stream",
     "text": [
      "      43/50         0G     0.9412      1.916      1.467          7        640: 100%|██████████| 10/10 [00:52<00:00,  5.24s/it]\n",
      "                 Class     Images  Instances      Box(P          R      mAP50  mAP50-95): 100%|██████████| 2/2 [00:06<00:00,  3.16s/it]"
     ]
    },
    {
     "name": "stdout",
     "output_type": "stream",
     "text": [
      "                   all         43         54      0.736      0.764      0.851      0.465\n"
     ]
    },
    {
     "name": "stderr",
     "output_type": "stream",
     "text": [
      "\n"
     ]
    },
    {
     "name": "stdout",
     "output_type": "stream",
     "text": [
      "\n",
      "      Epoch    GPU_mem   box_loss   cls_loss   dfl_loss  Instances       Size\n"
     ]
    },
    {
     "name": "stderr",
     "output_type": "stream",
     "text": [
      "      44/50         0G     0.9413      2.066      1.534          6        640: 100%|██████████| 10/10 [01:12<00:00,  7.23s/it]\n",
      "                 Class     Images  Instances      Box(P          R      mAP50  mAP50-95): 100%|██████████| 2/2 [00:06<00:00,  3.17s/it]"
     ]
    },
    {
     "name": "stdout",
     "output_type": "stream",
     "text": [
      "                   all         43         54      0.673      0.772      0.808      0.454\n"
     ]
    },
    {
     "name": "stderr",
     "output_type": "stream",
     "text": [
      "\n"
     ]
    },
    {
     "name": "stdout",
     "output_type": "stream",
     "text": [
      "\n",
      "      Epoch    GPU_mem   box_loss   cls_loss   dfl_loss  Instances       Size\n"
     ]
    },
    {
     "name": "stderr",
     "output_type": "stream",
     "text": [
      "      45/50         0G     0.8911      1.861      1.465          7        640: 100%|██████████| 10/10 [01:08<00:00,  6.82s/it]\n",
      "                 Class     Images  Instances      Box(P          R      mAP50  mAP50-95): 100%|██████████| 2/2 [00:05<00:00,  2.81s/it]"
     ]
    },
    {
     "name": "stdout",
     "output_type": "stream",
     "text": [
      "                   all         43         54      0.667      0.773      0.845      0.475\n"
     ]
    },
    {
     "name": "stderr",
     "output_type": "stream",
     "text": [
      "\n"
     ]
    },
    {
     "name": "stdout",
     "output_type": "stream",
     "text": [
      "\n",
      "      Epoch    GPU_mem   box_loss   cls_loss   dfl_loss  Instances       Size\n"
     ]
    },
    {
     "name": "stderr",
     "output_type": "stream",
     "text": [
      "      46/50         0G     0.8795      1.789      1.487          7        640: 100%|██████████| 10/10 [01:03<00:00,  6.35s/it]\n",
      "                 Class     Images  Instances      Box(P          R      mAP50  mAP50-95): 100%|██████████| 2/2 [00:06<00:00,  3.05s/it]"
     ]
    },
    {
     "name": "stdout",
     "output_type": "stream",
     "text": [
      "                   all         43         54       0.62      0.814      0.841      0.469\n"
     ]
    },
    {
     "name": "stderr",
     "output_type": "stream",
     "text": [
      "\n"
     ]
    },
    {
     "name": "stdout",
     "output_type": "stream",
     "text": [
      "\n",
      "      Epoch    GPU_mem   box_loss   cls_loss   dfl_loss  Instances       Size\n"
     ]
    },
    {
     "name": "stderr",
     "output_type": "stream",
     "text": [
      "      47/50         0G     0.8615      1.783      1.446          7        640: 100%|██████████| 10/10 [00:59<00:00,  5.94s/it]\n",
      "                 Class     Images  Instances      Box(P          R      mAP50  mAP50-95): 100%|██████████| 2/2 [00:05<00:00,  2.74s/it]"
     ]
    },
    {
     "name": "stdout",
     "output_type": "stream",
     "text": [
      "                   all         43         54      0.583      0.839      0.849      0.484\n"
     ]
    },
    {
     "name": "stderr",
     "output_type": "stream",
     "text": [
      "\n"
     ]
    },
    {
     "name": "stdout",
     "output_type": "stream",
     "text": [
      "\n",
      "      Epoch    GPU_mem   box_loss   cls_loss   dfl_loss  Instances       Size\n"
     ]
    },
    {
     "name": "stderr",
     "output_type": "stream",
     "text": [
      "      48/50         0G     0.8554      1.759      1.467          8        640: 100%|██████████| 10/10 [00:59<00:00,  5.97s/it]\n",
      "                 Class     Images  Instances      Box(P          R      mAP50  mAP50-95): 100%|██████████| 2/2 [00:06<00:00,  3.17s/it]"
     ]
    },
    {
     "name": "stdout",
     "output_type": "stream",
     "text": [
      "                   all         43         54      0.582      0.908      0.858      0.478\n"
     ]
    },
    {
     "name": "stderr",
     "output_type": "stream",
     "text": [
      "\n"
     ]
    },
    {
     "name": "stdout",
     "output_type": "stream",
     "text": [
      "\n",
      "      Epoch    GPU_mem   box_loss   cls_loss   dfl_loss  Instances       Size\n"
     ]
    },
    {
     "name": "stderr",
     "output_type": "stream",
     "text": [
      "      49/50         0G     0.8652      1.787      1.483          7        640: 100%|██████████| 10/10 [01:02<00:00,  6.25s/it]\n",
      "                 Class     Images  Instances      Box(P          R      mAP50  mAP50-95): 100%|██████████| 2/2 [00:06<00:00,  3.00s/it]"
     ]
    },
    {
     "name": "stdout",
     "output_type": "stream",
     "text": [
      "                   all         43         54      0.573      0.863      0.875      0.482\n"
     ]
    },
    {
     "name": "stderr",
     "output_type": "stream",
     "text": [
      "\n"
     ]
    },
    {
     "name": "stdout",
     "output_type": "stream",
     "text": [
      "\n",
      "      Epoch    GPU_mem   box_loss   cls_loss   dfl_loss  Instances       Size\n"
     ]
    },
    {
     "name": "stderr",
     "output_type": "stream",
     "text": [
      "      50/50         0G      0.868      1.731      1.472          8        640: 100%|██████████| 10/10 [00:54<00:00,  5.49s/it]\n",
      "                 Class     Images  Instances      Box(P          R      mAP50  mAP50-95): 100%|██████████| 2/2 [00:05<00:00,  2.82s/it]"
     ]
    },
    {
     "name": "stdout",
     "output_type": "stream",
     "text": [
      "                   all         43         54      0.578      0.912      0.874      0.482\n"
     ]
    },
    {
     "name": "stderr",
     "output_type": "stream",
     "text": [
      "\n"
     ]
    },
    {
     "name": "stdout",
     "output_type": "stream",
     "text": [
      "\n",
      "50 epochs completed in 1.299 hours.\n",
      "Optimizer stripped from runs\\detect\\train95\\weights\\last.pt, 6.3MB\n",
      "Optimizer stripped from runs\\detect\\train95\\weights\\best.pt, 6.3MB\n",
      "\n",
      "Validating runs\\detect\\train95\\weights\\best.pt...\n",
      "Ultralytics 8.3.127  Python-3.12.5 torch-2.7.0+cpu CPU (11th Gen Intel Core(TM) i5-1155G7 2.50GHz)\n",
      "Model summary (fused): 72 layers, 3,010,133 parameters, 0 gradients, 8.1 GFLOPs\n"
     ]
    },
    {
     "name": "stderr",
     "output_type": "stream",
     "text": [
      "                 Class     Images  Instances      Box(P          R      mAP50  mAP50-95): 100%|██████████| 2/2 [00:10<00:00,  5.17s/it]\n"
     ]
    },
    {
     "name": "stdout",
     "output_type": "stream",
     "text": [
      "                   all         43         54      0.638      0.758      0.883      0.531\n",
      "               Aashish          1          1      0.622          1      0.995      0.139\n",
      "                Aditya          1          1      0.537          1      0.995      0.895\n",
      "                Akshat          1          1      0.664          1      0.995      0.597\n",
      "                  Arav          1          1      0.228          1      0.249      0.124\n",
      "                 Arjun          3          3      0.665      0.664       0.83      0.391\n",
      "                Arshia          3          3      0.795          1      0.995      0.473\n",
      "               Arshiya          2          2      0.365          1      0.995      0.547\n",
      "              Ashutosh          2          2          1          0      0.995      0.647\n",
      "                Charvi          1          1      0.787          1      0.995      0.895\n",
      "                Chirag          3          3       0.88          1      0.995      0.539\n",
      "                 Daksh          2          2          1          0      0.995      0.622\n",
      "                Garvit          3          3      0.834      0.667      0.669      0.355\n",
      "                 Kirat          1          1      0.298          1      0.995      0.497\n",
      "               Lakshya          5          5          1          0      0.938      0.431\n",
      "                 Nalla          2          2      0.775          1      0.995      0.697\n",
      "                 Nitin          1          1          0          0      0.124     0.0746\n",
      "                Prachi          1          1      0.161          1      0.995      0.796\n",
      "             Pratiksha          5          5      0.724          1      0.995      0.683\n",
      "                Shubhu          4          4          1      0.639      0.995      0.348\n",
      "                 Varun          1          1      0.559          1      0.995      0.597\n",
      "                    bb         11         11       0.51      0.948      0.807       0.79\n",
      "Speed: 2.2ms preprocess, 228.0ms inference, 0.0ms loss, 1.4ms postprocess per image\n",
      "Results saved to \u001b[1mruns\\detect\\train95\u001b[0m\n",
      "Training completed successfully\n"
     ]
    }
   ],
   "source": [
    "from ultralytics import YOLO\n",
    "import numpy as np\n",
    "import os\n",
    "\n",
    "# Verify environment\n",
    "print(f\"NumPy version: {np.__version__}\")\n",
    "print(f\"Dataset exists: {os.path.exists('D:/2NDTRY/data.yaml')}\")\n",
    "\n",
    "# Load the YOLOv8 model\n",
    "try:\n",
    "    model = YOLO('yolov8n.pt')\n",
    "    print(\"Model loaded successfully\")\n",
    "except Exception as e:\n",
    "    print(f\"Failed to load model: {e}\")\n",
    "    raise\n",
    "\n",
    "# Train the model\n",
    "try:\n",
    "    results = model.train(\n",
    "        data='D:/2NDTRY/data.yaml',\n",
    "        epochs=50,\n",
    "        imgsz=640,\n",
    "        batch=16,\n",
    "        patience=100,\n",
    "        device='cpu',\n",
    "        name='train9',\n",
    "        pretrained=True,\n",
    "        optimizer='auto',\n",
    "        lr0=0.01,\n",
    "        augment=True,\n",
    "        save=True,\n",
    "        plots=True\n",
    "    )\n",
    "    print(\"Training completed successfully\")\n",
    "except Exception as e:\n",
    "    print(f\"Training failed: {e}\")\n",
    "    raise"
   ]
  },
  {
   "cell_type": "markdown",
   "metadata": {},
   "source": []
  },
  {
   "cell_type": "code",
   "execution_count": 2,
   "metadata": {},
   "outputs": [
    {
     "name": "stdout",
     "output_type": "stream",
     "text": [
      "Collecting ultralytics\n",
      "  Downloading ultralytics-8.3.127-py3-none-any.whl.metadata (37 kB)\n",
      "Requirement already satisfied: numpy>=1.23.0 in d:\\2ndtry\\.venv\\lib\\site-packages (from ultralytics) (2.2.5)\n",
      "Collecting matplotlib>=3.3.0 (from ultralytics)\n",
      "  Using cached matplotlib-3.10.1-cp312-cp312-win_amd64.whl.metadata (11 kB)\n",
      "Requirement already satisfied: opencv-python>=4.6.0 in d:\\2ndtry\\.venv\\lib\\site-packages (from ultralytics) (4.11.0.86)\n",
      "Collecting pillow>=7.1.2 (from ultralytics)\n",
      "  Using cached pillow-11.2.1-cp312-cp312-win_amd64.whl.metadata (9.1 kB)\n",
      "Collecting pyyaml>=5.3.1 (from ultralytics)\n",
      "  Using cached PyYAML-6.0.2-cp312-cp312-win_amd64.whl.metadata (2.1 kB)\n",
      "Collecting requests>=2.23.0 (from ultralytics)\n",
      "  Using cached requests-2.32.3-py3-none-any.whl.metadata (4.6 kB)\n",
      "Collecting scipy>=1.4.1 (from ultralytics)\n",
      "  Using cached scipy-1.15.2-cp312-cp312-win_amd64.whl.metadata (60 kB)\n",
      "Collecting torch>=1.8.0 (from ultralytics)\n",
      "  Downloading torch-2.7.0-cp312-cp312-win_amd64.whl.metadata (29 kB)\n",
      "Collecting torchvision>=0.9.0 (from ultralytics)\n",
      "  Using cached torchvision-0.22.0-cp312-cp312-win_amd64.whl.metadata (6.3 kB)\n",
      "Collecting tqdm>=4.64.0 (from ultralytics)\n",
      "  Using cached tqdm-4.67.1-py3-none-any.whl.metadata (57 kB)\n",
      "Requirement already satisfied: psutil in d:\\2ndtry\\.venv\\lib\\site-packages (from ultralytics) (7.0.0)\n",
      "Collecting py-cpuinfo (from ultralytics)\n",
      "  Using cached py_cpuinfo-9.0.0-py3-none-any.whl.metadata (794 bytes)\n",
      "Collecting pandas>=1.1.4 (from ultralytics)\n",
      "  Using cached pandas-2.2.3-cp312-cp312-win_amd64.whl.metadata (19 kB)\n",
      "Collecting seaborn>=0.11.0 (from ultralytics)\n",
      "  Using cached seaborn-0.13.2-py3-none-any.whl.metadata (5.4 kB)\n",
      "Collecting ultralytics-thop>=2.0.0 (from ultralytics)\n",
      "  Using cached ultralytics_thop-2.0.14-py3-none-any.whl.metadata (9.4 kB)\n",
      "Collecting contourpy>=1.0.1 (from matplotlib>=3.3.0->ultralytics)\n",
      "  Using cached contourpy-1.3.2-cp312-cp312-win_amd64.whl.metadata (5.5 kB)\n",
      "Collecting cycler>=0.10 (from matplotlib>=3.3.0->ultralytics)\n",
      "  Using cached cycler-0.12.1-py3-none-any.whl.metadata (3.8 kB)\n",
      "Collecting fonttools>=4.22.0 (from matplotlib>=3.3.0->ultralytics)\n",
      "  Using cached fonttools-4.57.0-cp312-cp312-win_amd64.whl.metadata (104 kB)\n",
      "Collecting kiwisolver>=1.3.1 (from matplotlib>=3.3.0->ultralytics)\n",
      "  Using cached kiwisolver-1.4.8-cp312-cp312-win_amd64.whl.metadata (6.3 kB)\n",
      "Requirement already satisfied: packaging>=20.0 in d:\\2ndtry\\.venv\\lib\\site-packages (from matplotlib>=3.3.0->ultralytics) (25.0)\n",
      "Collecting pyparsing>=2.3.1 (from matplotlib>=3.3.0->ultralytics)\n",
      "  Using cached pyparsing-3.2.3-py3-none-any.whl.metadata (5.0 kB)\n",
      "Requirement already satisfied: python-dateutil>=2.7 in d:\\2ndtry\\.venv\\lib\\site-packages (from matplotlib>=3.3.0->ultralytics) (2.9.0.post0)\n",
      "Collecting pytz>=2020.1 (from pandas>=1.1.4->ultralytics)\n",
      "  Using cached pytz-2025.2-py2.py3-none-any.whl.metadata (22 kB)\n",
      "Collecting tzdata>=2022.7 (from pandas>=1.1.4->ultralytics)\n",
      "  Using cached tzdata-2025.2-py2.py3-none-any.whl.metadata (1.4 kB)\n",
      "Requirement already satisfied: six>=1.5 in d:\\2ndtry\\.venv\\lib\\site-packages (from python-dateutil>=2.7->matplotlib>=3.3.0->ultralytics) (1.17.0)\n",
      "Collecting charset-normalizer<4,>=2 (from requests>=2.23.0->ultralytics)\n",
      "  Using cached charset_normalizer-3.4.2-cp312-cp312-win_amd64.whl.metadata (36 kB)\n",
      "Collecting idna<4,>=2.5 (from requests>=2.23.0->ultralytics)\n",
      "  Using cached idna-3.10-py3-none-any.whl.metadata (10 kB)\n",
      "Collecting urllib3<3,>=1.21.1 (from requests>=2.23.0->ultralytics)\n",
      "  Using cached urllib3-2.4.0-py3-none-any.whl.metadata (6.5 kB)\n",
      "Collecting certifi>=2017.4.17 (from requests>=2.23.0->ultralytics)\n",
      "  Using cached certifi-2025.4.26-py3-none-any.whl.metadata (2.5 kB)\n",
      "Collecting filelock (from torch>=1.8.0->ultralytics)\n",
      "  Using cached filelock-3.18.0-py3-none-any.whl.metadata (2.9 kB)\n",
      "Collecting typing-extensions>=4.10.0 (from torch>=1.8.0->ultralytics)\n",
      "  Using cached typing_extensions-4.13.2-py3-none-any.whl.metadata (3.0 kB)\n",
      "Collecting sympy>=1.13.3 (from torch>=1.8.0->ultralytics)\n",
      "  Using cached sympy-1.14.0-py3-none-any.whl.metadata (12 kB)\n",
      "Collecting networkx (from torch>=1.8.0->ultralytics)\n",
      "  Using cached networkx-3.4.2-py3-none-any.whl.metadata (6.3 kB)\n",
      "Collecting jinja2 (from torch>=1.8.0->ultralytics)\n",
      "  Using cached jinja2-3.1.6-py3-none-any.whl.metadata (2.9 kB)\n",
      "Collecting fsspec (from torch>=1.8.0->ultralytics)\n",
      "  Using cached fsspec-2025.3.2-py3-none-any.whl.metadata (11 kB)\n",
      "Collecting setuptools (from torch>=1.8.0->ultralytics)\n",
      "  Using cached setuptools-80.3.1-py3-none-any.whl.metadata (6.5 kB)\n",
      "Collecting mpmath<1.4,>=1.1.0 (from sympy>=1.13.3->torch>=1.8.0->ultralytics)\n",
      "  Using cached mpmath-1.3.0-py3-none-any.whl.metadata (8.6 kB)\n",
      "Requirement already satisfied: colorama in d:\\2ndtry\\.venv\\lib\\site-packages (from tqdm>=4.64.0->ultralytics) (0.4.6)\n",
      "Collecting MarkupSafe>=2.0 (from jinja2->torch>=1.8.0->ultralytics)\n",
      "  Using cached MarkupSafe-3.0.2-cp312-cp312-win_amd64.whl.metadata (4.1 kB)\n",
      "Downloading ultralytics-8.3.127-py3-none-any.whl (1.0 MB)\n",
      "   ---------------------------------------- 0.0/1.0 MB ? eta -:--:--\n",
      "   ---------------------------------------- 0.0/1.0 MB ? eta -:--:--\n",
      "   ---------- ----------------------------- 0.3/1.0 MB ? eta -:--:--\n",
      "   -------------------- ------------------- 0.5/1.0 MB 1.2 MB/s eta 0:00:01\n",
      "   ---------------------------------------- 1.0/1.0 MB 1.3 MB/s eta 0:00:00\n",
      "Using cached matplotlib-3.10.1-cp312-cp312-win_amd64.whl (8.1 MB)\n",
      "Using cached contourpy-1.3.2-cp312-cp312-win_amd64.whl (223 kB)\n",
      "Using cached cycler-0.12.1-py3-none-any.whl (8.3 kB)\n",
      "Using cached fonttools-4.57.0-cp312-cp312-win_amd64.whl (2.2 MB)\n",
      "Using cached kiwisolver-1.4.8-cp312-cp312-win_amd64.whl (71 kB)\n",
      "Using cached pandas-2.2.3-cp312-cp312-win_amd64.whl (11.5 MB)\n",
      "Using cached pillow-11.2.1-cp312-cp312-win_amd64.whl (2.7 MB)\n",
      "Using cached pyparsing-3.2.3-py3-none-any.whl (111 kB)\n",
      "Using cached pytz-2025.2-py2.py3-none-any.whl (509 kB)\n",
      "Using cached PyYAML-6.0.2-cp312-cp312-win_amd64.whl (156 kB)\n",
      "Using cached requests-2.32.3-py3-none-any.whl (64 kB)\n",
      "Using cached charset_normalizer-3.4.2-cp312-cp312-win_amd64.whl (105 kB)\n",
      "Using cached idna-3.10-py3-none-any.whl (70 kB)\n",
      "Using cached urllib3-2.4.0-py3-none-any.whl (128 kB)\n",
      "Using cached certifi-2025.4.26-py3-none-any.whl (159 kB)\n",
      "Using cached scipy-1.15.2-cp312-cp312-win_amd64.whl (40.9 MB)\n",
      "Using cached seaborn-0.13.2-py3-none-any.whl (294 kB)\n",
      "Downloading torch-2.7.0-cp312-cp312-win_amd64.whl (212.5 MB)\n",
      "   ---------------------------------------- 0.0/212.5 MB ? eta -:--:--\n",
      "   ---------------------------------------- 0.0/212.5 MB ? eta -:--:--\n",
      "   ---------------------------------------- 0.3/212.5 MB ? eta -:--:--\n",
      "   ---------------------------------------- 0.5/212.5 MB 985.5 kB/s eta 0:03:36\n",
      "   ---------------------------------------- 0.8/212.5 MB 1.1 MB/s eta 0:03:16\n",
      "   ---------------------------------------- 1.0/212.5 MB 1.2 MB/s eta 0:02:57\n",
      "   ---------------------------------------- 1.3/212.5 MB 1.2 MB/s eta 0:02:50\n",
      "   ---------------------------------------- 1.6/212.5 MB 1.3 MB/s eta 0:02:49\n",
      "   ---------------------------------------- 1.8/212.5 MB 1.3 MB/s eta 0:02:48\n",
      "   ---------------------------------------- 2.4/212.5 MB 1.3 MB/s eta 0:02:43\n",
      "   ---------------------------------------- 2.6/212.5 MB 1.3 MB/s eta 0:02:42\n",
      "    --------------------------------------- 2.9/212.5 MB 1.3 MB/s eta 0:02:42\n",
      "    --------------------------------------- 3.1/212.5 MB 1.3 MB/s eta 0:02:44\n",
      "    --------------------------------------- 3.4/212.5 MB 1.3 MB/s eta 0:02:44\n",
      "    --------------------------------------- 3.7/212.5 MB 1.3 MB/s eta 0:02:41\n",
      "    --------------------------------------- 3.9/212.5 MB 1.3 MB/s eta 0:02:41\n",
      "    --------------------------------------- 4.2/212.5 MB 1.3 MB/s eta 0:02:40\n",
      "    --------------------------------------- 4.5/212.5 MB 1.3 MB/s eta 0:02:36\n",
      "    --------------------------------------- 4.7/212.5 MB 1.3 MB/s eta 0:02:40\n",
      "    --------------------------------------- 5.0/212.5 MB 1.3 MB/s eta 0:02:41\n",
      "    --------------------------------------- 5.2/212.5 MB 1.3 MB/s eta 0:02:39\n",
      "   - -------------------------------------- 5.5/212.5 MB 1.3 MB/s eta 0:02:45\n",
      "   - -------------------------------------- 5.8/212.5 MB 1.3 MB/s eta 0:02:45\n",
      "   - -------------------------------------- 5.8/212.5 MB 1.3 MB/s eta 0:02:45\n",
      "   - -------------------------------------- 6.3/212.5 MB 1.3 MB/s eta 0:02:43\n",
      "   - -------------------------------------- 6.6/212.5 MB 1.3 MB/s eta 0:02:43\n",
      "   - -------------------------------------- 6.8/212.5 MB 1.3 MB/s eta 0:02:41\n",
      "   - -------------------------------------- 7.3/212.5 MB 1.3 MB/s eta 0:02:39\n",
      "   - -------------------------------------- 7.6/212.5 MB 1.3 MB/s eta 0:02:38\n",
      "   - -------------------------------------- 7.9/212.5 MB 1.3 MB/s eta 0:02:38\n",
      "   - -------------------------------------- 8.1/212.5 MB 1.3 MB/s eta 0:02:36\n",
      "   - -------------------------------------- 8.4/212.5 MB 1.3 MB/s eta 0:02:36\n",
      "   - -------------------------------------- 8.7/212.5 MB 1.3 MB/s eta 0:02:34\n",
      "   - -------------------------------------- 8.9/212.5 MB 1.3 MB/s eta 0:02:34\n",
      "   - -------------------------------------- 9.2/212.5 MB 1.3 MB/s eta 0:02:35\n",
      "   - -------------------------------------- 9.4/212.5 MB 1.3 MB/s eta 0:02:34\n",
      "   - -------------------------------------- 9.7/212.5 MB 1.3 MB/s eta 0:02:35\n",
      "   - -------------------------------------- 10.2/212.5 MB 1.3 MB/s eta 0:02:33\n",
      "   - -------------------------------------- 10.5/212.5 MB 1.3 MB/s eta 0:02:32\n",
      "   -- ------------------------------------- 10.7/212.5 MB 1.3 MB/s eta 0:02:32\n",
      "   -- ------------------------------------- 11.0/212.5 MB 1.3 MB/s eta 0:02:31\n",
      "   -- ------------------------------------- 11.5/212.5 MB 1.4 MB/s eta 0:02:29\n",
      "   -- ------------------------------------- 11.8/212.5 MB 1.4 MB/s eta 0:02:29\n",
      "   -- ------------------------------------- 12.3/212.5 MB 1.4 MB/s eta 0:02:27\n",
      "   -- ------------------------------------- 12.6/212.5 MB 1.4 MB/s eta 0:02:26\n",
      "   -- ------------------------------------- 12.8/212.5 MB 1.4 MB/s eta 0:02:26\n",
      "   -- ------------------------------------- 13.1/212.5 MB 1.4 MB/s eta 0:02:26\n",
      "   -- ------------------------------------- 13.4/212.5 MB 1.4 MB/s eta 0:02:26\n",
      "   -- ------------------------------------- 13.6/212.5 MB 1.4 MB/s eta 0:02:26\n",
      "   -- ------------------------------------- 14.2/212.5 MB 1.4 MB/s eta 0:02:24\n",
      "   -- ------------------------------------- 14.4/212.5 MB 1.4 MB/s eta 0:02:23\n",
      "   -- ------------------------------------- 14.9/212.5 MB 1.4 MB/s eta 0:02:21\n",
      "   -- ------------------------------------- 15.5/212.5 MB 1.4 MB/s eta 0:02:19\n",
      "   -- ------------------------------------- 15.7/212.5 MB 1.4 MB/s eta 0:02:19\n",
      "   --- ------------------------------------ 16.3/212.5 MB 1.4 MB/s eta 0:02:17\n",
      "   --- ------------------------------------ 16.8/212.5 MB 1.5 MB/s eta 0:02:15\n",
      "   --- ------------------------------------ 17.0/212.5 MB 1.5 MB/s eta 0:02:15\n",
      "   --- ------------------------------------ 17.6/212.5 MB 1.5 MB/s eta 0:02:13\n",
      "   --- ------------------------------------ 17.8/212.5 MB 1.5 MB/s eta 0:02:12\n",
      "   --- ------------------------------------ 18.4/212.5 MB 1.5 MB/s eta 0:02:11\n",
      "   --- ------------------------------------ 18.9/212.5 MB 1.5 MB/s eta 0:02:10\n",
      "   --- ------------------------------------ 19.4/212.5 MB 1.5 MB/s eta 0:02:08\n",
      "   --- ------------------------------------ 19.7/212.5 MB 1.5 MB/s eta 0:02:07\n",
      "   --- ------------------------------------ 20.2/212.5 MB 1.5 MB/s eta 0:02:06\n",
      "   --- ------------------------------------ 20.7/212.5 MB 1.6 MB/s eta 0:02:04\n",
      "   --- ------------------------------------ 21.2/212.5 MB 1.6 MB/s eta 0:02:03\n",
      "   ---- ----------------------------------- 21.5/212.5 MB 1.6 MB/s eta 0:02:03\n",
      "   ---- ----------------------------------- 22.0/212.5 MB 1.6 MB/s eta 0:02:01\n",
      "   ---- ----------------------------------- 22.5/212.5 MB 1.6 MB/s eta 0:02:00\n",
      "   ---- ----------------------------------- 23.1/212.5 MB 1.6 MB/s eta 0:01:59\n",
      "   ---- ----------------------------------- 23.6/212.5 MB 1.6 MB/s eta 0:01:58\n",
      "   ---- ----------------------------------- 24.1/212.5 MB 1.6 MB/s eta 0:01:56\n",
      "   ---- ----------------------------------- 24.4/212.5 MB 1.6 MB/s eta 0:01:56\n",
      "   ---- ----------------------------------- 24.6/212.5 MB 1.6 MB/s eta 0:01:56\n",
      "   ---- ----------------------------------- 25.2/212.5 MB 1.6 MB/s eta 0:01:55\n",
      "   ---- ----------------------------------- 25.4/212.5 MB 1.6 MB/s eta 0:01:55\n",
      "   ---- ----------------------------------- 26.0/212.5 MB 1.6 MB/s eta 0:01:55\n",
      "   ---- ----------------------------------- 26.2/212.5 MB 1.6 MB/s eta 0:01:55\n",
      "   ----- ---------------------------------- 27.0/212.5 MB 1.6 MB/s eta 0:01:53\n",
      "   ----- ---------------------------------- 27.5/212.5 MB 1.7 MB/s eta 0:01:52\n",
      "   ----- ---------------------------------- 28.0/212.5 MB 1.7 MB/s eta 0:01:50\n",
      "   ----- ---------------------------------- 28.8/212.5 MB 1.7 MB/s eta 0:01:48\n",
      "   ----- ---------------------------------- 29.1/212.5 MB 1.7 MB/s eta 0:01:48\n",
      "   ----- ---------------------------------- 29.6/212.5 MB 1.7 MB/s eta 0:01:48\n",
      "   ----- ---------------------------------- 30.4/212.5 MB 1.7 MB/s eta 0:01:46\n",
      "   ----- ---------------------------------- 30.9/212.5 MB 1.7 MB/s eta 0:01:45\n",
      "   ----- ---------------------------------- 31.5/212.5 MB 1.7 MB/s eta 0:01:44\n",
      "   ------ --------------------------------- 32.0/212.5 MB 1.8 MB/s eta 0:01:43\n",
      "   ------ --------------------------------- 32.8/212.5 MB 1.8 MB/s eta 0:01:42\n",
      "   ------ --------------------------------- 33.3/212.5 MB 1.8 MB/s eta 0:01:41\n",
      "   ------ --------------------------------- 34.1/212.5 MB 1.8 MB/s eta 0:01:39\n",
      "   ------ --------------------------------- 34.6/212.5 MB 1.8 MB/s eta 0:01:39\n",
      "   ------ --------------------------------- 35.1/212.5 MB 1.8 MB/s eta 0:01:38\n",
      "   ------ --------------------------------- 35.9/212.5 MB 1.8 MB/s eta 0:01:37\n",
      "   ------ --------------------------------- 36.4/212.5 MB 1.8 MB/s eta 0:01:36\n",
      "   ------ --------------------------------- 37.0/212.5 MB 1.9 MB/s eta 0:01:35\n",
      "   ------- -------------------------------- 37.7/212.5 MB 1.9 MB/s eta 0:01:34\n",
      "   ------- -------------------------------- 38.5/212.5 MB 1.9 MB/s eta 0:01:32\n",
      "   ------- -------------------------------- 39.1/212.5 MB 1.9 MB/s eta 0:01:32\n",
      "   ------- -------------------------------- 39.8/212.5 MB 1.9 MB/s eta 0:01:30\n",
      "   ------- -------------------------------- 40.9/212.5 MB 1.9 MB/s eta 0:01:29\n",
      "   ------- -------------------------------- 41.4/212.5 MB 2.0 MB/s eta 0:01:28\n",
      "   ------- -------------------------------- 42.2/212.5 MB 2.0 MB/s eta 0:01:27\n",
      "   -------- ------------------------------- 43.0/212.5 MB 2.0 MB/s eta 0:01:25\n",
      "   -------- ------------------------------- 43.8/212.5 MB 2.0 MB/s eta 0:01:25\n",
      "   -------- ------------------------------- 44.6/212.5 MB 2.0 MB/s eta 0:01:24\n",
      "   -------- ------------------------------- 45.1/212.5 MB 2.0 MB/s eta 0:01:23\n",
      "   -------- ------------------------------- 45.9/212.5 MB 2.0 MB/s eta 0:01:22\n",
      "   -------- ------------------------------- 46.4/212.5 MB 2.1 MB/s eta 0:01:21\n",
      "   -------- ------------------------------- 47.2/212.5 MB 2.1 MB/s eta 0:01:21\n",
      "   --------- ------------------------------ 48.0/212.5 MB 2.1 MB/s eta 0:01:20\n",
      "   --------- ------------------------------ 48.8/212.5 MB 2.1 MB/s eta 0:01:19\n",
      "   --------- ------------------------------ 49.5/212.5 MB 2.1 MB/s eta 0:01:18\n",
      "   --------- ------------------------------ 50.3/212.5 MB 2.1 MB/s eta 0:01:17\n",
      "   --------- ------------------------------ 50.9/212.5 MB 2.1 MB/s eta 0:01:16\n",
      "   --------- ------------------------------ 51.6/212.5 MB 2.1 MB/s eta 0:01:16\n",
      "   --------- ------------------------------ 52.4/212.5 MB 2.2 MB/s eta 0:01:15\n",
      "   ---------- ----------------------------- 53.2/212.5 MB 2.2 MB/s eta 0:01:14\n",
      "   ---------- ----------------------------- 54.0/212.5 MB 2.2 MB/s eta 0:01:13\n",
      "   ---------- ----------------------------- 55.1/212.5 MB 2.2 MB/s eta 0:01:12\n",
      "   ---------- ----------------------------- 55.8/212.5 MB 2.2 MB/s eta 0:01:11\n",
      "   ---------- ----------------------------- 56.4/212.5 MB 2.2 MB/s eta 0:01:11\n",
      "   ---------- ----------------------------- 57.4/212.5 MB 2.2 MB/s eta 0:01:10\n",
      "   ----------- ---------------------------- 58.5/212.5 MB 2.3 MB/s eta 0:01:08\n",
      "   ----------- ---------------------------- 59.5/212.5 MB 2.3 MB/s eta 0:01:07\n",
      "   ----------- ---------------------------- 60.3/212.5 MB 2.3 MB/s eta 0:01:07\n",
      "   ----------- ---------------------------- 61.1/212.5 MB 2.3 MB/s eta 0:01:06\n",
      "   ----------- ---------------------------- 62.1/212.5 MB 2.3 MB/s eta 0:01:05\n",
      "   ----------- ---------------------------- 62.9/212.5 MB 2.3 MB/s eta 0:01:04\n",
      "   ------------ --------------------------- 64.0/212.5 MB 2.4 MB/s eta 0:01:03\n",
      "   ------------ --------------------------- 64.5/212.5 MB 2.4 MB/s eta 0:01:03\n",
      "   ------------ --------------------------- 65.5/212.5 MB 2.4 MB/s eta 0:01:02\n",
      "   ------------ --------------------------- 66.6/212.5 MB 2.4 MB/s eta 0:01:01\n",
      "   ------------ --------------------------- 67.6/212.5 MB 2.4 MB/s eta 0:01:00\n",
      "   ------------ --------------------------- 68.4/212.5 MB 2.4 MB/s eta 0:01:00\n",
      "   ------------- -------------------------- 69.5/212.5 MB 2.5 MB/s eta 0:00:59\n",
      "   ------------- -------------------------- 70.8/212.5 MB 2.5 MB/s eta 0:00:58\n",
      "   ------------- -------------------------- 71.8/212.5 MB 2.5 MB/s eta 0:00:57\n",
      "   ------------- -------------------------- 72.9/212.5 MB 2.5 MB/s eta 0:00:56\n",
      "   ------------- -------------------------- 73.9/212.5 MB 2.5 MB/s eta 0:00:55\n",
      "   -------------- ------------------------- 75.0/212.5 MB 2.6 MB/s eta 0:00:54\n",
      "   -------------- ------------------------- 76.0/212.5 MB 2.6 MB/s eta 0:00:53\n",
      "   -------------- ------------------------- 77.6/212.5 MB 2.6 MB/s eta 0:00:52\n",
      "   -------------- ------------------------- 79.2/212.5 MB 2.6 MB/s eta 0:00:51\n",
      "   --------------- ------------------------ 79.7/212.5 MB 2.7 MB/s eta 0:00:50\n",
      "   --------------- ------------------------ 81.0/212.5 MB 2.7 MB/s eta 0:00:49\n",
      "   --------------- ------------------------ 82.1/212.5 MB 2.7 MB/s eta 0:00:49\n",
      "   --------------- ------------------------ 83.4/212.5 MB 2.7 MB/s eta 0:00:48\n",
      "   --------------- ------------------------ 84.4/212.5 MB 2.8 MB/s eta 0:00:47\n",
      "   ---------------- ----------------------- 85.5/212.5 MB 2.8 MB/s eta 0:00:46\n",
      "   ---------------- ----------------------- 86.5/212.5 MB 2.8 MB/s eta 0:00:45\n",
      "   ---------------- ----------------------- 87.0/212.5 MB 2.8 MB/s eta 0:00:45\n",
      "   ---------------- ----------------------- 87.6/212.5 MB 2.8 MB/s eta 0:00:44\n",
      "   ---------------- ----------------------- 88.9/212.5 MB 2.9 MB/s eta 0:00:44\n",
      "   ---------------- ----------------------- 89.9/212.5 MB 2.9 MB/s eta 0:00:43\n",
      "   ----------------- ---------------------- 91.0/212.5 MB 2.9 MB/s eta 0:00:42\n",
      "   ----------------- ---------------------- 91.8/212.5 MB 2.9 MB/s eta 0:00:42\n",
      "   ----------------- ---------------------- 92.8/212.5 MB 3.0 MB/s eta 0:00:41\n",
      "   ----------------- ---------------------- 94.6/212.5 MB 3.0 MB/s eta 0:00:40\n",
      "   ------------------ --------------------- 95.7/212.5 MB 3.1 MB/s eta 0:00:39\n",
      "   ------------------ --------------------- 97.3/212.5 MB 3.1 MB/s eta 0:00:38\n",
      "   ------------------ --------------------- 98.8/212.5 MB 3.1 MB/s eta 0:00:37\n",
      "   ------------------ --------------------- 100.4/212.5 MB 3.2 MB/s eta 0:00:36\n",
      "   ------------------- -------------------- 101.2/212.5 MB 3.2 MB/s eta 0:00:35\n",
      "   ------------------- -------------------- 103.0/212.5 MB 3.3 MB/s eta 0:00:34\n",
      "   ------------------- -------------------- 104.1/212.5 MB 3.3 MB/s eta 0:00:33\n",
      "   ------------------- -------------------- 105.6/212.5 MB 3.3 MB/s eta 0:00:33\n",
      "   -------------------- ------------------- 107.0/212.5 MB 3.4 MB/s eta 0:00:32\n",
      "   -------------------- ------------------- 108.5/212.5 MB 3.4 MB/s eta 0:00:31\n",
      "   -------------------- ------------------- 110.1/212.5 MB 3.4 MB/s eta 0:00:30\n",
      "   --------------------- ------------------ 111.7/212.5 MB 3.5 MB/s eta 0:00:29\n",
      "   --------------------- ------------------ 113.5/212.5 MB 3.5 MB/s eta 0:00:29\n",
      "   --------------------- ------------------ 115.3/212.5 MB 3.6 MB/s eta 0:00:28\n",
      "   ---------------------- ----------------- 117.2/212.5 MB 3.6 MB/s eta 0:00:27\n",
      "   ---------------------- ----------------- 119.0/212.5 MB 3.7 MB/s eta 0:00:26\n",
      "   ---------------------- ----------------- 120.1/212.5 MB 3.7 MB/s eta 0:00:25\n",
      "   ---------------------- ----------------- 121.6/212.5 MB 3.8 MB/s eta 0:00:25\n",
      "   ----------------------- ---------------- 123.2/212.5 MB 3.8 MB/s eta 0:00:24\n",
      "   ----------------------- ---------------- 124.8/212.5 MB 3.8 MB/s eta 0:00:23\n",
      "   ----------------------- ---------------- 126.4/212.5 MB 3.9 MB/s eta 0:00:23\n",
      "   ----------------------- ---------------- 127.4/212.5 MB 3.9 MB/s eta 0:00:22\n",
      "   ------------------------ --------------- 129.0/212.5 MB 4.0 MB/s eta 0:00:22\n",
      "   ------------------------ --------------- 130.0/212.5 MB 4.0 MB/s eta 0:00:21\n",
      "   ------------------------ --------------- 131.3/212.5 MB 4.0 MB/s eta 0:00:21\n",
      "   ------------------------- -------------- 133.2/212.5 MB 4.0 MB/s eta 0:00:20\n",
      "   ------------------------- -------------- 134.7/212.5 MB 4.1 MB/s eta 0:00:20\n",
      "   ------------------------- -------------- 135.8/212.5 MB 4.1 MB/s eta 0:00:19\n",
      "   ------------------------- -------------- 136.8/212.5 MB 4.1 MB/s eta 0:00:19\n",
      "   -------------------------- ------------- 138.1/212.5 MB 4.2 MB/s eta 0:00:18\n",
      "   -------------------------- ------------- 139.5/212.5 MB 4.2 MB/s eta 0:00:18\n",
      "   -------------------------- ------------- 141.0/212.5 MB 4.3 MB/s eta 0:00:17\n",
      "   -------------------------- ------------- 142.6/212.5 MB 4.3 MB/s eta 0:00:17\n",
      "   --------------------------- ------------ 143.7/212.5 MB 4.3 MB/s eta 0:00:16\n",
      "   --------------------------- ------------ 145.0/212.5 MB 4.3 MB/s eta 0:00:16\n",
      "   --------------------------- ------------ 145.8/212.5 MB 4.4 MB/s eta 0:00:16\n",
      "   --------------------------- ------------ 147.1/212.5 MB 4.4 MB/s eta 0:00:15\n",
      "   --------------------------- ------------ 148.1/212.5 MB 4.4 MB/s eta 0:00:15\n",
      "   ---------------------------- ----------- 149.4/212.5 MB 4.4 MB/s eta 0:00:15\n",
      "   ---------------------------- ----------- 150.7/212.5 MB 4.5 MB/s eta 0:00:14\n",
      "   ---------------------------- ----------- 152.3/212.5 MB 4.5 MB/s eta 0:00:14\n",
      "   ---------------------------- ----------- 153.6/212.5 MB 4.5 MB/s eta 0:00:13\n",
      "   ----------------------------- ---------- 155.2/212.5 MB 4.6 MB/s eta 0:00:13\n",
      "   ----------------------------- ---------- 156.8/212.5 MB 4.6 MB/s eta 0:00:13\n",
      "   ----------------------------- ---------- 158.3/212.5 MB 4.6 MB/s eta 0:00:12\n",
      "   ------------------------------ --------- 159.9/212.5 MB 4.7 MB/s eta 0:00:12\n",
      "   ------------------------------ --------- 161.5/212.5 MB 4.7 MB/s eta 0:00:11\n",
      "   ------------------------------ --------- 162.8/212.5 MB 4.7 MB/s eta 0:00:11\n",
      "   ------------------------------ --------- 164.4/212.5 MB 4.8 MB/s eta 0:00:11\n",
      "   ------------------------------- -------- 166.2/212.5 MB 4.8 MB/s eta 0:00:10\n",
      "   ------------------------------- -------- 167.0/212.5 MB 4.8 MB/s eta 0:00:10\n",
      "   ------------------------------- -------- 168.3/212.5 MB 4.9 MB/s eta 0:00:10\n",
      "   ------------------------------- -------- 169.9/212.5 MB 4.9 MB/s eta 0:00:09\n",
      "   -------------------------------- ------- 171.7/212.5 MB 4.9 MB/s eta 0:00:09\n",
      "   -------------------------------- ------- 173.5/212.5 MB 5.0 MB/s eta 0:00:08\n",
      "   -------------------------------- ------- 174.9/212.5 MB 5.0 MB/s eta 0:00:08\n",
      "   --------------------------------- ------ 176.4/212.5 MB 5.1 MB/s eta 0:00:08\n",
      "   --------------------------------- ------ 177.7/212.5 MB 5.1 MB/s eta 0:00:07\n",
      "   --------------------------------- ------ 179.6/212.5 MB 5.2 MB/s eta 0:00:07\n",
      "   ---------------------------------- ----- 180.9/212.5 MB 5.2 MB/s eta 0:00:07\n",
      "   ---------------------------------- ----- 181.7/212.5 MB 5.2 MB/s eta 0:00:06\n",
      "   ---------------------------------- ----- 183.5/212.5 MB 5.2 MB/s eta 0:00:06\n",
      "   ---------------------------------- ----- 184.8/212.5 MB 5.3 MB/s eta 0:00:06\n",
      "   ----------------------------------- ---- 186.4/212.5 MB 5.3 MB/s eta 0:00:05\n",
      "   ----------------------------------- ---- 188.2/212.5 MB 5.3 MB/s eta 0:00:05\n",
      "   ----------------------------------- ---- 190.3/212.5 MB 5.4 MB/s eta 0:00:05\n",
      "   ------------------------------------ --- 191.4/212.5 MB 5.4 MB/s eta 0:00:04\n",
      "   ------------------------------------ --- 192.9/212.5 MB 5.4 MB/s eta 0:00:04\n",
      "   ------------------------------------ --- 194.8/212.5 MB 5.5 MB/s eta 0:00:04\n",
      "   ------------------------------------ --- 196.1/212.5 MB 5.5 MB/s eta 0:00:03\n",
      "   ------------------------------------- -- 197.7/212.5 MB 5.5 MB/s eta 0:00:03\n",
      "   ------------------------------------- -- 199.0/212.5 MB 5.6 MB/s eta 0:00:03\n",
      "   ------------------------------------- -- 200.5/212.5 MB 5.6 MB/s eta 0:00:03\n",
      "   -------------------------------------- - 202.1/212.5 MB 5.6 MB/s eta 0:00:02\n",
      "   -------------------------------------- - 203.9/212.5 MB 5.7 MB/s eta 0:00:02\n",
      "   -------------------------------------- - 205.8/212.5 MB 5.7 MB/s eta 0:00:02\n",
      "   -------------------------------------- - 206.8/212.5 MB 5.7 MB/s eta 0:00:01\n",
      "   ---------------------------------------  208.1/212.5 MB 5.7 MB/s eta 0:00:01\n",
      "   ---------------------------------------  209.5/212.5 MB 5.8 MB/s eta 0:00:01\n",
      "   ---------------------------------------  211.3/212.5 MB 5.8 MB/s eta 0:00:01\n",
      "   ---------------------------------------  212.3/212.5 MB 5.8 MB/s eta 0:00:01\n",
      "   ---------------------------------------  212.3/212.5 MB 5.8 MB/s eta 0:00:01\n",
      "   ---------------------------------------- 212.5/212.5 MB 5.8 MB/s eta 0:00:00\n",
      "Using cached sympy-1.14.0-py3-none-any.whl (6.3 MB)\n",
      "Using cached mpmath-1.3.0-py3-none-any.whl (536 kB)\n",
      "Downloading torchvision-0.22.0-cp312-cp312-win_amd64.whl (1.7 MB)\n",
      "   ---------------------------------------- 0.0/1.7 MB ? eta -:--:--\n",
      "   ------------------------------ --------- 1.3/1.7 MB 6.7 MB/s eta 0:00:01\n",
      "   ---------------------------------------- 1.7/1.7 MB 6.2 MB/s eta 0:00:00\n",
      "Using cached tqdm-4.67.1-py3-none-any.whl (78 kB)\n",
      "Using cached typing_extensions-4.13.2-py3-none-any.whl (45 kB)\n",
      "Using cached tzdata-2025.2-py2.py3-none-any.whl (347 kB)\n",
      "Using cached ultralytics_thop-2.0.14-py3-none-any.whl (26 kB)\n",
      "Using cached filelock-3.18.0-py3-none-any.whl (16 kB)\n",
      "Using cached fsspec-2025.3.2-py3-none-any.whl (194 kB)\n",
      "Using cached jinja2-3.1.6-py3-none-any.whl (134 kB)\n",
      "Using cached MarkupSafe-3.0.2-cp312-cp312-win_amd64.whl (15 kB)\n",
      "Using cached networkx-3.4.2-py3-none-any.whl (1.7 MB)\n",
      "Using cached py_cpuinfo-9.0.0-py3-none-any.whl (22 kB)\n",
      "Using cached setuptools-80.3.1-py3-none-any.whl (1.2 MB)\n",
      "Installing collected packages: pytz, py-cpuinfo, mpmath, urllib3, tzdata, typing-extensions, tqdm, sympy, setuptools, scipy, pyyaml, pyparsing, pillow, networkx, MarkupSafe, kiwisolver, idna, fsspec, fonttools, filelock, cycler, contourpy, charset-normalizer, certifi, requests, pandas, matplotlib, jinja2, torch, seaborn, ultralytics-thop, torchvision, ultralytics\n",
      "\n",
      "   ----------------------------------------  0/33 [pytz]\n",
      "   - --------------------------------------  1/33 [py-cpuinfo]\n",
      "   -- -------------------------------------  2/33 [mpmath]\n",
      "   -- -------------------------------------  2/33 [mpmath]\n",
      "   -- -------------------------------------  2/33 [mpmath]\n",
      "   -- -------------------------------------  2/33 [mpmath]\n",
      "   -- -------------------------------------  2/33 [mpmath]\n",
      "   -- -------------------------------------  2/33 [mpmath]\n",
      "   -- -------------------------------------  2/33 [mpmath]\n",
      "   -- -------------------------------------  2/33 [mpmath]\n",
      "   --- ------------------------------------  3/33 [urllib3]\n",
      "   --- ------------------------------------  3/33 [urllib3]\n",
      "   ---- -----------------------------------  4/33 [tzdata]\n",
      "   ------- --------------------------------  6/33 [tqdm]\n",
      "   ------- --------------------------------  6/33 [tqdm]\n",
      "   ------- --------------------------------  6/33 [tqdm]\n",
      "   -------- -------------------------------  7/33 [sympy]\n",
      "   -------- -------------------------------  7/33 [sympy]\n",
      "   -------- -------------------------------  7/33 [sympy]\n",
      "   -------- -------------------------------  7/33 [sympy]\n",
      "   -------- -------------------------------  7/33 [sympy]\n",
      "   -------- -------------------------------  7/33 [sympy]\n",
      "   -------- -------------------------------  7/33 [sympy]\n",
      "   -------- -------------------------------  7/33 [sympy]\n",
      "   -------- -------------------------------  7/33 [sympy]\n",
      "   -------- -------------------------------  7/33 [sympy]\n",
      "   -------- -------------------------------  7/33 [sympy]\n",
      "   -------- -------------------------------  7/33 [sympy]\n",
      "   -------- -------------------------------  7/33 [sympy]\n",
      "   -------- -------------------------------  7/33 [sympy]\n",
      "   -------- -------------------------------  7/33 [sympy]\n",
      "   -------- -------------------------------  7/33 [sympy]\n",
      "   -------- -------------------------------  7/33 [sympy]\n",
      "   -------- -------------------------------  7/33 [sympy]\n",
      "   -------- -------------------------------  7/33 [sympy]\n",
      "   -------- -------------------------------  7/33 [sympy]\n",
      "   -------- -------------------------------  7/33 [sympy]\n",
      "   -------- -------------------------------  7/33 [sympy]\n",
      "   -------- -------------------------------  7/33 [sympy]\n",
      "   -------- -------------------------------  7/33 [sympy]\n",
      "   -------- -------------------------------  7/33 [sympy]\n",
      "   -------- -------------------------------  7/33 [sympy]\n",
      "   -------- -------------------------------  7/33 [sympy]\n",
      "   -------- -------------------------------  7/33 [sympy]\n",
      "   -------- -------------------------------  7/33 [sympy]\n",
      "   -------- -------------------------------  7/33 [sympy]\n",
      "   -------- -------------------------------  7/33 [sympy]\n",
      "   -------- -------------------------------  7/33 [sympy]\n",
      "   -------- -------------------------------  7/33 [sympy]\n",
      "   -------- -------------------------------  7/33 [sympy]\n",
      "   -------- -------------------------------  7/33 [sympy]\n",
      "   -------- -------------------------------  7/33 [sympy]\n",
      "   -------- -------------------------------  7/33 [sympy]\n",
      "   -------- -------------------------------  7/33 [sympy]\n",
      "   -------- -------------------------------  7/33 [sympy]\n",
      "   -------- -------------------------------  7/33 [sympy]\n",
      "   -------- -------------------------------  7/33 [sympy]\n",
      "   -------- -------------------------------  7/33 [sympy]\n",
      "   -------- -------------------------------  7/33 [sympy]\n",
      "   -------- -------------------------------  7/33 [sympy]\n",
      "   -------- -------------------------------  7/33 [sympy]\n",
      "   -------- -------------------------------  7/33 [sympy]\n",
      "   -------- -------------------------------  7/33 [sympy]\n",
      "   -------- -------------------------------  7/33 [sympy]\n",
      "   -------- -------------------------------  7/33 [sympy]\n",
      "   -------- -------------------------------  7/33 [sympy]\n",
      "   -------- -------------------------------  7/33 [sympy]\n",
      "   -------- -------------------------------  7/33 [sympy]\n",
      "   -------- -------------------------------  7/33 [sympy]\n",
      "   -------- -------------------------------  7/33 [sympy]\n",
      "   -------- -------------------------------  7/33 [sympy]\n",
      "   -------- -------------------------------  7/33 [sympy]\n",
      "   -------- -------------------------------  7/33 [sympy]\n",
      "   -------- -------------------------------  7/33 [sympy]\n",
      "   -------- -------------------------------  7/33 [sympy]\n",
      "   -------- -------------------------------  7/33 [sympy]\n",
      "   -------- -------------------------------  7/33 [sympy]\n",
      "   -------- -------------------------------  7/33 [sympy]\n",
      "   -------- -------------------------------  7/33 [sympy]\n",
      "   -------- -------------------------------  7/33 [sympy]\n",
      "   -------- -------------------------------  7/33 [sympy]\n",
      "   -------- -------------------------------  7/33 [sympy]\n",
      "   -------- -------------------------------  7/33 [sympy]\n",
      "   -------- -------------------------------  7/33 [sympy]\n",
      "   -------- -------------------------------  7/33 [sympy]\n",
      "   -------- -------------------------------  7/33 [sympy]\n",
      "   -------- -------------------------------  7/33 [sympy]\n",
      "   -------- -------------------------------  7/33 [sympy]\n",
      "   -------- -------------------------------  7/33 [sympy]\n",
      "   -------- -------------------------------  7/33 [sympy]\n",
      "   -------- -------------------------------  7/33 [sympy]\n",
      "   -------- -------------------------------  7/33 [sympy]\n",
      "   -------- -------------------------------  7/33 [sympy]\n",
      "   -------- -------------------------------  7/33 [sympy]\n",
      "   -------- -------------------------------  7/33 [sympy]\n",
      "   -------- -------------------------------  7/33 [sympy]\n",
      "   -------- -------------------------------  7/33 [sympy]\n",
      "   -------- -------------------------------  7/33 [sympy]\n",
      "   -------- -------------------------------  7/33 [sympy]\n",
      "   -------- -------------------------------  7/33 [sympy]\n",
      "   -------- -------------------------------  7/33 [sympy]\n",
      "   -------- -------------------------------  7/33 [sympy]\n",
      "   -------- -------------------------------  7/33 [sympy]\n",
      "   -------- -------------------------------  7/33 [sympy]\n",
      "   -------- -------------------------------  7/33 [sympy]\n",
      "   -------- -------------------------------  7/33 [sympy]\n",
      "   -------- -------------------------------  7/33 [sympy]\n",
      "   -------- -------------------------------  7/33 [sympy]\n",
      "   -------- -------------------------------  7/33 [sympy]\n",
      "   -------- -------------------------------  7/33 [sympy]\n",
      "   -------- -------------------------------  7/33 [sympy]\n",
      "   -------- -------------------------------  7/33 [sympy]\n",
      "   -------- -------------------------------  7/33 [sympy]\n",
      "   -------- -------------------------------  7/33 [sympy]\n",
      "   -------- -------------------------------  7/33 [sympy]\n",
      "   -------- -------------------------------  7/33 [sympy]\n",
      "   -------- -------------------------------  7/33 [sympy]\n",
      "   -------- -------------------------------  7/33 [sympy]\n",
      "   -------- -------------------------------  7/33 [sympy]\n",
      "   -------- -------------------------------  7/33 [sympy]\n",
      "   -------- -------------------------------  7/33 [sympy]\n",
      "   -------- -------------------------------  7/33 [sympy]\n",
      "   -------- -------------------------------  7/33 [sympy]\n",
      "   -------- -------------------------------  7/33 [sympy]\n",
      "   -------- -------------------------------  7/33 [sympy]\n",
      "   -------- -------------------------------  7/33 [sympy]\n",
      "   -------- -------------------------------  7/33 [sympy]\n",
      "   -------- -------------------------------  7/33 [sympy]\n",
      "   -------- -------------------------------  7/33 [sympy]\n",
      "   -------- -------------------------------  7/33 [sympy]\n",
      "   -------- -------------------------------  7/33 [sympy]\n",
      "   -------- -------------------------------  7/33 [sympy]\n",
      "   -------- -------------------------------  7/33 [sympy]\n",
      "   -------- -------------------------------  7/33 [sympy]\n",
      "   -------- -------------------------------  7/33 [sympy]\n",
      "   -------- -------------------------------  7/33 [sympy]\n",
      "   -------- -------------------------------  7/33 [sympy]\n",
      "   -------- -------------------------------  7/33 [sympy]\n",
      "   -------- -------------------------------  7/33 [sympy]\n",
      "   -------- -------------------------------  7/33 [sympy]\n",
      "   -------- -------------------------------  7/33 [sympy]\n",
      "   -------- -------------------------------  7/33 [sympy]\n",
      "   -------- -------------------------------  7/33 [sympy]\n",
      "   -------- -------------------------------  7/33 [sympy]\n",
      "   -------- -------------------------------  7/33 [sympy]\n",
      "   -------- -------------------------------  7/33 [sympy]\n",
      "   -------- -------------------------------  7/33 [sympy]\n",
      "   -------- -------------------------------  7/33 [sympy]\n",
      "   -------- -------------------------------  7/33 [sympy]\n",
      "   -------- -------------------------------  7/33 [sympy]\n",
      "   -------- -------------------------------  7/33 [sympy]\n",
      "   -------- -------------------------------  7/33 [sympy]\n",
      "   -------- -------------------------------  7/33 [sympy]\n",
      "   -------- -------------------------------  7/33 [sympy]\n",
      "   -------- -------------------------------  7/33 [sympy]\n",
      "   -------- -------------------------------  7/33 [sympy]\n",
      "   --------- ------------------------------  8/33 [setuptools]\n",
      "   --------- ------------------------------  8/33 [setuptools]\n",
      "   --------- ------------------------------  8/33 [setuptools]\n",
      "   --------- ------------------------------  8/33 [setuptools]\n",
      "   --------- ------------------------------  8/33 [setuptools]\n",
      "   --------- ------------------------------  8/33 [setuptools]\n",
      "   --------- ------------------------------  8/33 [setuptools]\n",
      "   --------- ------------------------------  8/33 [setuptools]\n",
      "   --------- ------------------------------  8/33 [setuptools]\n",
      "   --------- ------------------------------  8/33 [setuptools]\n",
      "   --------- ------------------------------  8/33 [setuptools]\n",
      "   --------- ------------------------------  8/33 [setuptools]\n",
      "   --------- ------------------------------  8/33 [setuptools]\n",
      "   --------- ------------------------------  8/33 [setuptools]\n",
      "   --------- ------------------------------  8/33 [setuptools]\n",
      "   --------- ------------------------------  8/33 [setuptools]\n",
      "   --------- ------------------------------  8/33 [setuptools]\n",
      "   --------- ------------------------------  8/33 [setuptools]\n",
      "   --------- ------------------------------  8/33 [setuptools]\n",
      "   --------- ------------------------------  8/33 [setuptools]\n",
      "   --------- ------------------------------  8/33 [setuptools]\n",
      "   --------- ------------------------------  8/33 [setuptools]\n",
      "   --------- ------------------------------  8/33 [setuptools]\n",
      "   --------- ------------------------------  8/33 [setuptools]\n",
      "   --------- ------------------------------  8/33 [setuptools]\n",
      "   --------- ------------------------------  8/33 [setuptools]\n",
      "   --------- ------------------------------  8/33 [setuptools]\n",
      "   --------- ------------------------------  8/33 [setuptools]\n",
      "   --------- ------------------------------  8/33 [setuptools]\n",
      "   --------- ------------------------------  8/33 [setuptools]\n",
      "   --------- ------------------------------  8/33 [setuptools]\n",
      "   --------- ------------------------------  8/33 [setuptools]\n",
      "   --------- ------------------------------  8/33 [setuptools]\n",
      "   --------- ------------------------------  8/33 [setuptools]\n",
      "   --------- ------------------------------  8/33 [setuptools]\n",
      "   --------- ------------------------------  8/33 [setuptools]\n",
      "   --------- ------------------------------  8/33 [setuptools]\n",
      "   --------- ------------------------------  8/33 [setuptools]\n",
      "   --------- ------------------------------  8/33 [setuptools]\n",
      "   ---------- -----------------------------  9/33 [scipy]\n",
      "   ---------- -----------------------------  9/33 [scipy]\n",
      "   ---------- -----------------------------  9/33 [scipy]\n",
      "   ---------- -----------------------------  9/33 [scipy]\n",
      "   ---------- -----------------------------  9/33 [scipy]\n",
      "   ---------- -----------------------------  9/33 [scipy]\n",
      "   ---------- -----------------------------  9/33 [scipy]\n",
      "   ---------- -----------------------------  9/33 [scipy]\n",
      "   ---------- -----------------------------  9/33 [scipy]\n",
      "   ---------- -----------------------------  9/33 [scipy]\n",
      "   ---------- -----------------------------  9/33 [scipy]\n",
      "   ---------- -----------------------------  9/33 [scipy]\n",
      "   ---------- -----------------------------  9/33 [scipy]\n",
      "   ---------- -----------------------------  9/33 [scipy]\n",
      "   ---------- -----------------------------  9/33 [scipy]\n",
      "   ---------- -----------------------------  9/33 [scipy]\n",
      "   ---------- -----------------------------  9/33 [scipy]\n",
      "   ---------- -----------------------------  9/33 [scipy]\n",
      "   ---------- -----------------------------  9/33 [scipy]\n",
      "   ---------- -----------------------------  9/33 [scipy]\n",
      "   ---------- -----------------------------  9/33 [scipy]\n",
      "   ---------- -----------------------------  9/33 [scipy]\n",
      "   ---------- -----------------------------  9/33 [scipy]\n",
      "   ---------- -----------------------------  9/33 [scipy]\n",
      "   ---------- -----------------------------  9/33 [scipy]\n",
      "   ---------- -----------------------------  9/33 [scipy]\n",
      "   ---------- -----------------------------  9/33 [scipy]\n",
      "   ---------- -----------------------------  9/33 [scipy]\n",
      "   ---------- -----------------------------  9/33 [scipy]\n",
      "   ---------- -----------------------------  9/33 [scipy]\n",
      "   ---------- -----------------------------  9/33 [scipy]\n",
      "   ---------- -----------------------------  9/33 [scipy]\n",
      "   ---------- -----------------------------  9/33 [scipy]\n",
      "   ---------- -----------------------------  9/33 [scipy]\n",
      "   ---------- -----------------------------  9/33 [scipy]\n",
      "   ---------- -----------------------------  9/33 [scipy]\n",
      "   ---------- -----------------------------  9/33 [scipy]\n",
      "   ---------- -----------------------------  9/33 [scipy]\n",
      "   ---------- -----------------------------  9/33 [scipy]\n",
      "   ---------- -----------------------------  9/33 [scipy]\n",
      "   ---------- -----------------------------  9/33 [scipy]\n",
      "   ---------- -----------------------------  9/33 [scipy]\n",
      "   ---------- -----------------------------  9/33 [scipy]\n",
      "   ---------- -----------------------------  9/33 [scipy]\n",
      "   ---------- -----------------------------  9/33 [scipy]\n",
      "   ---------- -----------------------------  9/33 [scipy]\n",
      "   ---------- -----------------------------  9/33 [scipy]\n",
      "   ---------- -----------------------------  9/33 [scipy]\n",
      "   ---------- -----------------------------  9/33 [scipy]\n",
      "   ---------- -----------------------------  9/33 [scipy]\n",
      "   ---------- -----------------------------  9/33 [scipy]\n",
      "   ---------- -----------------------------  9/33 [scipy]\n",
      "   ---------- -----------------------------  9/33 [scipy]\n",
      "   ---------- -----------------------------  9/33 [scipy]\n",
      "   ---------- -----------------------------  9/33 [scipy]\n",
      "   ---------- -----------------------------  9/33 [scipy]\n",
      "   ---------- -----------------------------  9/33 [scipy]\n",
      "   ---------- -----------------------------  9/33 [scipy]\n",
      "   ---------- -----------------------------  9/33 [scipy]\n",
      "   ---------- -----------------------------  9/33 [scipy]\n",
      "   ---------- -----------------------------  9/33 [scipy]\n",
      "   ---------- -----------------------------  9/33 [scipy]\n",
      "   ---------- -----------------------------  9/33 [scipy]\n",
      "   ---------- -----------------------------  9/33 [scipy]\n",
      "   ---------- -----------------------------  9/33 [scipy]\n",
      "   ---------- -----------------------------  9/33 [scipy]\n",
      "   ---------- -----------------------------  9/33 [scipy]\n",
      "   ---------- -----------------------------  9/33 [scipy]\n",
      "   ---------- -----------------------------  9/33 [scipy]\n",
      "   ---------- -----------------------------  9/33 [scipy]\n",
      "   ---------- -----------------------------  9/33 [scipy]\n",
      "   ---------- -----------------------------  9/33 [scipy]\n",
      "   ---------- -----------------------------  9/33 [scipy]\n",
      "   ---------- -----------------------------  9/33 [scipy]\n",
      "   ---------- -----------------------------  9/33 [scipy]\n",
      "   ---------- -----------------------------  9/33 [scipy]\n",
      "   ---------- -----------------------------  9/33 [scipy]\n",
      "   ---------- -----------------------------  9/33 [scipy]\n",
      "   ---------- -----------------------------  9/33 [scipy]\n",
      "   ---------- -----------------------------  9/33 [scipy]\n",
      "   ---------- -----------------------------  9/33 [scipy]\n",
      "   ---------- -----------------------------  9/33 [scipy]\n",
      "   ---------- -----------------------------  9/33 [scipy]\n",
      "   ---------- -----------------------------  9/33 [scipy]\n",
      "   ---------- -----------------------------  9/33 [scipy]\n",
      "   ---------- -----------------------------  9/33 [scipy]\n",
      "   ---------- -----------------------------  9/33 [scipy]\n",
      "   ---------- -----------------------------  9/33 [scipy]\n",
      "   ---------- -----------------------------  9/33 [scipy]\n",
      "   ---------- -----------------------------  9/33 [scipy]\n",
      "   ---------- -----------------------------  9/33 [scipy]\n",
      "   ---------- -----------------------------  9/33 [scipy]\n",
      "   ---------- -----------------------------  9/33 [scipy]\n",
      "   ---------- -----------------------------  9/33 [scipy]\n",
      "   ---------- -----------------------------  9/33 [scipy]\n",
      "   ---------- -----------------------------  9/33 [scipy]\n",
      "   ---------- -----------------------------  9/33 [scipy]\n",
      "   ---------- -----------------------------  9/33 [scipy]\n",
      "   ---------- -----------------------------  9/33 [scipy]\n",
      "   ---------- -----------------------------  9/33 [scipy]\n",
      "   ---------- -----------------------------  9/33 [scipy]\n",
      "   ---------- -----------------------------  9/33 [scipy]\n",
      "   ---------- -----------------------------  9/33 [scipy]\n",
      "   ---------- -----------------------------  9/33 [scipy]\n",
      "   ---------- -----------------------------  9/33 [scipy]\n",
      "   ---------- -----------------------------  9/33 [scipy]\n",
      "   ---------- -----------------------------  9/33 [scipy]\n",
      "   ---------- -----------------------------  9/33 [scipy]\n",
      "   ---------- -----------------------------  9/33 [scipy]\n",
      "   ---------- -----------------------------  9/33 [scipy]\n",
      "   ---------- -----------------------------  9/33 [scipy]\n",
      "   ---------- -----------------------------  9/33 [scipy]\n",
      "   ---------- -----------------------------  9/33 [scipy]\n",
      "   ---------- -----------------------------  9/33 [scipy]\n",
      "   ---------- -----------------------------  9/33 [scipy]\n",
      "   ---------- -----------------------------  9/33 [scipy]\n",
      "   ---------- -----------------------------  9/33 [scipy]\n",
      "   ---------- -----------------------------  9/33 [scipy]\n",
      "   ---------- -----------------------------  9/33 [scipy]\n",
      "   ---------- -----------------------------  9/33 [scipy]\n",
      "   ---------- -----------------------------  9/33 [scipy]\n",
      "   ------------ --------------------------- 10/33 [pyyaml]\n",
      "   ------------- -------------------------- 11/33 [pyparsing]\n",
      "   ------------- -------------------------- 11/33 [pyparsing]\n",
      "   -------------- ------------------------- 12/33 [pillow]\n",
      "   -------------- ------------------------- 12/33 [pillow]\n",
      "   -------------- ------------------------- 12/33 [pillow]\n",
      "   -------------- ------------------------- 12/33 [pillow]\n",
      "   -------------- ------------------------- 12/33 [pillow]\n",
      "   -------------- ------------------------- 12/33 [pillow]\n",
      "   -------------- ------------------------- 12/33 [pillow]\n",
      "   -------------- ------------------------- 12/33 [pillow]\n",
      "   -------------- ------------------------- 12/33 [pillow]\n",
      "   -------------- ------------------------- 12/33 [pillow]\n",
      "   -------------- ------------------------- 12/33 [pillow]\n",
      "   -------------- ------------------------- 12/33 [pillow]\n",
      "   --------------- ------------------------ 13/33 [networkx]\n",
      "   --------------- ------------------------ 13/33 [networkx]\n",
      "   --------------- ------------------------ 13/33 [networkx]\n",
      "   --------------- ------------------------ 13/33 [networkx]\n",
      "   --------------- ------------------------ 13/33 [networkx]\n",
      "   --------------- ------------------------ 13/33 [networkx]\n",
      "   --------------- ------------------------ 13/33 [networkx]\n",
      "   --------------- ------------------------ 13/33 [networkx]\n",
      "   --------------- ------------------------ 13/33 [networkx]\n",
      "   --------------- ------------------------ 13/33 [networkx]\n",
      "   --------------- ------------------------ 13/33 [networkx]\n",
      "   --------------- ------------------------ 13/33 [networkx]\n",
      "   --------------- ------------------------ 13/33 [networkx]\n",
      "   --------------- ------------------------ 13/33 [networkx]\n",
      "   --------------- ------------------------ 13/33 [networkx]\n",
      "   --------------- ------------------------ 13/33 [networkx]\n",
      "   --------------- ------------------------ 13/33 [networkx]\n",
      "   --------------- ------------------------ 13/33 [networkx]\n",
      "   --------------- ------------------------ 13/33 [networkx]\n",
      "   --------------- ------------------------ 13/33 [networkx]\n",
      "   --------------- ------------------------ 13/33 [networkx]\n",
      "   --------------- ------------------------ 13/33 [networkx]\n",
      "   --------------- ------------------------ 13/33 [networkx]\n",
      "   --------------- ------------------------ 13/33 [networkx]\n",
      "   --------------- ------------------------ 13/33 [networkx]\n",
      "   --------------- ------------------------ 13/33 [networkx]\n",
      "   --------------- ------------------------ 13/33 [networkx]\n",
      "   --------------- ------------------------ 13/33 [networkx]\n",
      "   --------------- ------------------------ 13/33 [networkx]\n",
      "   --------------- ------------------------ 13/33 [networkx]\n",
      "   --------------- ------------------------ 13/33 [networkx]\n",
      "   --------------- ------------------------ 13/33 [networkx]\n",
      "   --------------- ------------------------ 13/33 [networkx]\n",
      "   --------------- ------------------------ 13/33 [networkx]\n",
      "   --------------- ------------------------ 13/33 [networkx]\n",
      "   --------------- ------------------------ 13/33 [networkx]\n",
      "   --------------- ------------------------ 13/33 [networkx]\n",
      "   --------------- ------------------------ 13/33 [networkx]\n",
      "   --------------- ------------------------ 13/33 [networkx]\n",
      "   --------------- ------------------------ 13/33 [networkx]\n",
      "   --------------- ------------------------ 13/33 [networkx]\n",
      "   --------------- ------------------------ 13/33 [networkx]\n",
      "   --------------- ------------------------ 13/33 [networkx]\n",
      "   --------------- ------------------------ 13/33 [networkx]\n",
      "   --------------- ------------------------ 13/33 [networkx]\n",
      "   --------------- ------------------------ 13/33 [networkx]\n",
      "   --------------- ------------------------ 13/33 [networkx]\n",
      "   --------------- ------------------------ 13/33 [networkx]\n",
      "   --------------- ------------------------ 13/33 [networkx]\n",
      "   --------------- ------------------------ 13/33 [networkx]\n",
      "   --------------- ------------------------ 13/33 [networkx]\n",
      "   --------------- ------------------------ 13/33 [networkx]\n",
      "   --------------- ------------------------ 13/33 [networkx]\n",
      "   --------------- ------------------------ 13/33 [networkx]\n",
      "   --------------- ------------------------ 13/33 [networkx]\n",
      "   --------------- ------------------------ 13/33 [networkx]\n",
      "   --------------- ------------------------ 13/33 [networkx]\n",
      "   --------------- ------------------------ 13/33 [networkx]\n",
      "   --------------- ------------------------ 13/33 [networkx]\n",
      "   --------------- ------------------------ 13/33 [networkx]\n",
      "   --------------- ------------------------ 13/33 [networkx]\n",
      "   --------------- ------------------------ 13/33 [networkx]\n",
      "   ------------------- -------------------- 16/33 [idna]\n",
      "   ------------------- -------------------- 16/33 [idna]\n",
      "   -------------------- ------------------- 17/33 [fsspec]\n",
      "   -------------------- ------------------- 17/33 [fsspec]\n",
      "   -------------------- ------------------- 17/33 [fsspec]\n",
      "   -------------------- ------------------- 17/33 [fsspec]\n",
      "   -------------------- ------------------- 17/33 [fsspec]\n",
      "   -------------------- ------------------- 17/33 [fsspec]\n",
      "   --------------------- ------------------ 18/33 [fonttools]\n",
      "   --------------------- ------------------ 18/33 [fonttools]\n",
      "   --------------------- ------------------ 18/33 [fonttools]\n",
      "   --------------------- ------------------ 18/33 [fonttools]\n",
      "   --------------------- ------------------ 18/33 [fonttools]\n",
      "   --------------------- ------------------ 18/33 [fonttools]\n",
      "   --------------------- ------------------ 18/33 [fonttools]\n",
      "   --------------------- ------------------ 18/33 [fonttools]\n",
      "   --------------------- ------------------ 18/33 [fonttools]\n",
      "   --------------------- ------------------ 18/33 [fonttools]\n",
      "   --------------------- ------------------ 18/33 [fonttools]\n",
      "   --------------------- ------------------ 18/33 [fonttools]\n",
      "   --------------------- ------------------ 18/33 [fonttools]\n",
      "   --------------------- ------------------ 18/33 [fonttools]\n",
      "   --------------------- ------------------ 18/33 [fonttools]\n",
      "   --------------------- ------------------ 18/33 [fonttools]\n",
      "   --------------------- ------------------ 18/33 [fonttools]\n",
      "   --------------------- ------------------ 18/33 [fonttools]\n",
      "   --------------------- ------------------ 18/33 [fonttools]\n",
      "   --------------------- ------------------ 18/33 [fonttools]\n",
      "   --------------------- ------------------ 18/33 [fonttools]\n",
      "   --------------------- ------------------ 18/33 [fonttools]\n",
      "   --------------------- ------------------ 18/33 [fonttools]\n",
      "   --------------------- ------------------ 18/33 [fonttools]\n",
      "   --------------------- ------------------ 18/33 [fonttools]\n",
      "   --------------------- ------------------ 18/33 [fonttools]\n",
      "   --------------------- ------------------ 18/33 [fonttools]\n",
      "   --------------------- ------------------ 18/33 [fonttools]\n",
      "   --------------------- ------------------ 18/33 [fonttools]\n",
      "   --------------------- ------------------ 18/33 [fonttools]\n",
      "   --------------------- ------------------ 18/33 [fonttools]\n",
      "   --------------------- ------------------ 18/33 [fonttools]\n",
      "   --------------------- ------------------ 18/33 [fonttools]\n",
      "   --------------------- ------------------ 18/33 [fonttools]\n",
      "   --------------------- ------------------ 18/33 [fonttools]\n",
      "   ------------------------ --------------- 20/33 [cycler]\n",
      "   ------------------------- -------------- 21/33 [contourpy]\n",
      "   ------------------------- -------------- 21/33 [contourpy]\n",
      "   -------------------------- ------------- 22/33 [charset-normalizer]\n",
      "   -------------------------- ------------- 22/33 [charset-normalizer]\n",
      "   --------------------------- ------------ 23/33 [certifi]\n",
      "   ----------------------------- ---------- 24/33 [requests]\n",
      "   ----------------------------- ---------- 24/33 [requests]\n",
      "   ------------------------------ --------- 25/33 [pandas]\n",
      "   ------------------------------ --------- 25/33 [pandas]\n",
      "   ------------------------------ --------- 25/33 [pandas]\n",
      "   ------------------------------ --------- 25/33 [pandas]\n",
      "   ------------------------------ --------- 25/33 [pandas]\n",
      "   ------------------------------ --------- 25/33 [pandas]\n",
      "   ------------------------------ --------- 25/33 [pandas]\n",
      "   ------------------------------ --------- 25/33 [pandas]\n",
      "   ------------------------------ --------- 25/33 [pandas]\n",
      "   ------------------------------ --------- 25/33 [pandas]\n",
      "   ------------------------------ --------- 25/33 [pandas]\n",
      "   ------------------------------ --------- 25/33 [pandas]\n",
      "   ------------------------------ --------- 25/33 [pandas]\n",
      "   ------------------------------ --------- 25/33 [pandas]\n",
      "   ------------------------------ --------- 25/33 [pandas]\n",
      "   ------------------------------ --------- 25/33 [pandas]\n",
      "   ------------------------------ --------- 25/33 [pandas]\n",
      "   ------------------------------ --------- 25/33 [pandas]\n",
      "   ------------------------------ --------- 25/33 [pandas]\n",
      "   ------------------------------ --------- 25/33 [pandas]\n",
      "   ------------------------------ --------- 25/33 [pandas]\n",
      "   ------------------------------ --------- 25/33 [pandas]\n",
      "   ------------------------------ --------- 25/33 [pandas]\n",
      "   ------------------------------ --------- 25/33 [pandas]\n",
      "   ------------------------------ --------- 25/33 [pandas]\n",
      "   ------------------------------ --------- 25/33 [pandas]\n",
      "   ------------------------------ --------- 25/33 [pandas]\n",
      "   ------------------------------ --------- 25/33 [pandas]\n",
      "   ------------------------------ --------- 25/33 [pandas]\n",
      "   ------------------------------ --------- 25/33 [pandas]\n",
      "   ------------------------------ --------- 25/33 [pandas]\n",
      "   ------------------------------ --------- 25/33 [pandas]\n",
      "   ------------------------------ --------- 25/33 [pandas]\n",
      "   ------------------------------ --------- 25/33 [pandas]\n",
      "   ------------------------------ --------- 25/33 [pandas]\n",
      "   ------------------------------ --------- 25/33 [pandas]\n",
      "   ------------------------------ --------- 25/33 [pandas]\n",
      "   ------------------------------ --------- 25/33 [pandas]\n",
      "   ------------------------------ --------- 25/33 [pandas]\n",
      "   ------------------------------ --------- 25/33 [pandas]\n",
      "   ------------------------------ --------- 25/33 [pandas]\n",
      "   ------------------------------ --------- 25/33 [pandas]\n",
      "   ------------------------------ --------- 25/33 [pandas]\n",
      "   ------------------------------ --------- 25/33 [pandas]\n",
      "   ------------------------------ --------- 25/33 [pandas]\n",
      "   ------------------------------ --------- 25/33 [pandas]\n",
      "   ------------------------------ --------- 25/33 [pandas]\n",
      "   ------------------------------ --------- 25/33 [pandas]\n",
      "   ------------------------------ --------- 25/33 [pandas]\n",
      "   ------------------------------ --------- 25/33 [pandas]\n",
      "   ------------------------------ --------- 25/33 [pandas]\n",
      "   ------------------------------ --------- 25/33 [pandas]\n",
      "   ------------------------------ --------- 25/33 [pandas]\n",
      "   ------------------------------ --------- 25/33 [pandas]\n",
      "   ------------------------------ --------- 25/33 [pandas]\n",
      "   ------------------------------ --------- 25/33 [pandas]\n",
      "   ------------------------------ --------- 25/33 [pandas]\n",
      "   ------------------------------ --------- 25/33 [pandas]\n",
      "   ------------------------------ --------- 25/33 [pandas]\n",
      "   ------------------------------ --------- 25/33 [pandas]\n",
      "   ------------------------------ --------- 25/33 [pandas]\n",
      "   ------------------------------ --------- 25/33 [pandas]\n",
      "   ------------------------------ --------- 25/33 [pandas]\n",
      "   ------------------------------ --------- 25/33 [pandas]\n",
      "   ------------------------------ --------- 25/33 [pandas]\n",
      "   ------------------------------ --------- 25/33 [pandas]\n",
      "   ------------------------------ --------- 25/33 [pandas]\n",
      "   ------------------------------ --------- 25/33 [pandas]\n",
      "   ------------------------------ --------- 25/33 [pandas]\n",
      "   ------------------------------ --------- 25/33 [pandas]\n",
      "   ------------------------------ --------- 25/33 [pandas]\n",
      "   ------------------------------ --------- 25/33 [pandas]\n",
      "   ------------------------------ --------- 25/33 [pandas]\n",
      "   ------------------------------ --------- 25/33 [pandas]\n",
      "   ------------------------------ --------- 25/33 [pandas]\n",
      "   ------------------------------ --------- 25/33 [pandas]\n",
      "   ------------------------------ --------- 25/33 [pandas]\n",
      "   ------------------------------ --------- 25/33 [pandas]\n",
      "   ------------------------------ --------- 25/33 [pandas]\n",
      "   ------------------------------ --------- 25/33 [pandas]\n",
      "   ------------------------------ --------- 25/33 [pandas]\n",
      "   ------------------------------ --------- 25/33 [pandas]\n",
      "   ------------------------------ --------- 25/33 [pandas]\n",
      "   ------------------------------ --------- 25/33 [pandas]\n",
      "   ------------------------------ --------- 25/33 [pandas]\n",
      "   ------------------------------ --------- 25/33 [pandas]\n",
      "   ------------------------------ --------- 25/33 [pandas]\n",
      "   ------------------------------ --------- 25/33 [pandas]\n",
      "   ------------------------------ --------- 25/33 [pandas]\n",
      "   ------------------------------ --------- 25/33 [pandas]\n",
      "   ------------------------------ --------- 25/33 [pandas]\n",
      "   ------------------------------ --------- 25/33 [pandas]\n",
      "   ------------------------------ --------- 25/33 [pandas]\n",
      "   ------------------------------ --------- 25/33 [pandas]\n",
      "   ------------------------------ --------- 25/33 [pandas]\n",
      "   ------------------------------ --------- 25/33 [pandas]\n",
      "   ------------------------------ --------- 25/33 [pandas]\n",
      "   ------------------------------ --------- 25/33 [pandas]\n",
      "   ------------------------------ --------- 25/33 [pandas]\n",
      "   ------------------------------ --------- 25/33 [pandas]\n",
      "   ------------------------------ --------- 25/33 [pandas]\n",
      "   ------------------------------ --------- 25/33 [pandas]\n",
      "   ------------------------------ --------- 25/33 [pandas]\n",
      "   ------------------------------ --------- 25/33 [pandas]\n",
      "   ------------------------------ --------- 25/33 [pandas]\n",
      "   ------------------------------ --------- 25/33 [pandas]\n",
      "   ------------------------------ --------- 25/33 [pandas]\n",
      "   ------------------------------ --------- 25/33 [pandas]\n",
      "   ------------------------------ --------- 25/33 [pandas]\n",
      "   ------------------------------ --------- 25/33 [pandas]\n",
      "   ------------------------------ --------- 25/33 [pandas]\n",
      "   ------------------------------ --------- 25/33 [pandas]\n",
      "   ------------------------------ --------- 25/33 [pandas]\n",
      "   ------------------------------ --------- 25/33 [pandas]\n",
      "   ------------------------------ --------- 25/33 [pandas]\n",
      "   ------------------------------ --------- 25/33 [pandas]\n",
      "   ------------------------------ --------- 25/33 [pandas]\n",
      "   ------------------------------ --------- 25/33 [pandas]\n",
      "   ------------------------------ --------- 25/33 [pandas]\n",
      "   ------------------------------ --------- 25/33 [pandas]\n",
      "   ------------------------------ --------- 25/33 [pandas]\n",
      "   ------------------------------ --------- 25/33 [pandas]\n",
      "   ------------------------------ --------- 25/33 [pandas]\n",
      "   ------------------------------ --------- 25/33 [pandas]\n",
      "   ------------------------------ --------- 25/33 [pandas]\n",
      "   ------------------------------ --------- 25/33 [pandas]\n",
      "   ------------------------------ --------- 25/33 [pandas]\n",
      "   ------------------------------ --------- 25/33 [pandas]\n",
      "   ------------------------------ --------- 25/33 [pandas]\n",
      "   ------------------------------ --------- 25/33 [pandas]\n",
      "   ------------------------------ --------- 25/33 [pandas]\n",
      "   ------------------------------- -------- 26/33 [matplotlib]\n",
      "   ------------------------------- -------- 26/33 [matplotlib]\n",
      "   ------------------------------- -------- 26/33 [matplotlib]\n",
      "   ------------------------------- -------- 26/33 [matplotlib]\n",
      "   ------------------------------- -------- 26/33 [matplotlib]\n",
      "   ------------------------------- -------- 26/33 [matplotlib]\n",
      "   ------------------------------- -------- 26/33 [matplotlib]\n",
      "   ------------------------------- -------- 26/33 [matplotlib]\n",
      "   ------------------------------- -------- 26/33 [matplotlib]\n",
      "   ------------------------------- -------- 26/33 [matplotlib]\n",
      "   ------------------------------- -------- 26/33 [matplotlib]\n",
      "   ------------------------------- -------- 26/33 [matplotlib]\n",
      "   ------------------------------- -------- 26/33 [matplotlib]\n",
      "   ------------------------------- -------- 26/33 [matplotlib]\n",
      "   ------------------------------- -------- 26/33 [matplotlib]\n",
      "   ------------------------------- -------- 26/33 [matplotlib]\n",
      "   ------------------------------- -------- 26/33 [matplotlib]\n",
      "   ------------------------------- -------- 26/33 [matplotlib]\n",
      "   ------------------------------- -------- 26/33 [matplotlib]\n",
      "   ------------------------------- -------- 26/33 [matplotlib]\n",
      "   ------------------------------- -------- 26/33 [matplotlib]\n",
      "   ------------------------------- -------- 26/33 [matplotlib]\n",
      "   ------------------------------- -------- 26/33 [matplotlib]\n",
      "   ------------------------------- -------- 26/33 [matplotlib]\n",
      "   ------------------------------- -------- 26/33 [matplotlib]\n",
      "   ------------------------------- -------- 26/33 [matplotlib]\n",
      "   ------------------------------- -------- 26/33 [matplotlib]\n",
      "   -------------------------------- ------- 27/33 [jinja2]\n",
      "   -------------------------------- ------- 27/33 [jinja2]\n",
      "   --------------------------------- ------ 28/33 [torch]\n",
      "   --------------------------------- ------ 28/33 [torch]\n",
      "   --------------------------------- ------ 28/33 [torch]\n",
      "   --------------------------------- ------ 28/33 [torch]\n",
      "   --------------------------------- ------ 28/33 [torch]\n",
      "   --------------------------------- ------ 28/33 [torch]\n",
      "   --------------------------------- ------ 28/33 [torch]\n",
      "   --------------------------------- ------ 28/33 [torch]\n",
      "   --------------------------------- ------ 28/33 [torch]\n",
      "   --------------------------------- ------ 28/33 [torch]\n",
      "   --------------------------------- ------ 28/33 [torch]\n",
      "   --------------------------------- ------ 28/33 [torch]\n",
      "   --------------------------------- ------ 28/33 [torch]\n",
      "   --------------------------------- ------ 28/33 [torch]\n",
      "   --------------------------------- ------ 28/33 [torch]\n",
      "   --------------------------------- ------ 28/33 [torch]\n",
      "   --------------------------------- ------ 28/33 [torch]\n",
      "   --------------------------------- ------ 28/33 [torch]\n",
      "   --------------------------------- ------ 28/33 [torch]\n",
      "   --------------------------------- ------ 28/33 [torch]\n",
      "   --------------------------------- ------ 28/33 [torch]\n",
      "   --------------------------------- ------ 28/33 [torch]\n",
      "   --------------------------------- ------ 28/33 [torch]\n",
      "   --------------------------------- ------ 28/33 [torch]\n",
      "   --------------------------------- ------ 28/33 [torch]\n",
      "   --------------------------------- ------ 28/33 [torch]\n",
      "   --------------------------------- ------ 28/33 [torch]\n",
      "   --------------------------------- ------ 28/33 [torch]\n",
      "   --------------------------------- ------ 28/33 [torch]\n",
      "   --------------------------------- ------ 28/33 [torch]\n",
      "   --------------------------------- ------ 28/33 [torch]\n",
      "   --------------------------------- ------ 28/33 [torch]\n",
      "   --------------------------------- ------ 28/33 [torch]\n",
      "   --------------------------------- ------ 28/33 [torch]\n",
      "   --------------------------------- ------ 28/33 [torch]\n",
      "   --------------------------------- ------ 28/33 [torch]\n",
      "   --------------------------------- ------ 28/33 [torch]\n",
      "   --------------------------------- ------ 28/33 [torch]\n",
      "   --------------------------------- ------ 28/33 [torch]\n",
      "   --------------------------------- ------ 28/33 [torch]\n",
      "   --------------------------------- ------ 28/33 [torch]\n",
      "   --------------------------------- ------ 28/33 [torch]\n",
      "   --------------------------------- ------ 28/33 [torch]\n",
      "   --------------------------------- ------ 28/33 [torch]\n",
      "   --------------------------------- ------ 28/33 [torch]\n",
      "   --------------------------------- ------ 28/33 [torch]\n",
      "   --------------------------------- ------ 28/33 [torch]\n",
      "   --------------------------------- ------ 28/33 [torch]\n",
      "   --------------------------------- ------ 28/33 [torch]\n",
      "   --------------------------------- ------ 28/33 [torch]\n",
      "   --------------------------------- ------ 28/33 [torch]\n",
      "   --------------------------------- ------ 28/33 [torch]\n",
      "   --------------------------------- ------ 28/33 [torch]\n",
      "   --------------------------------- ------ 28/33 [torch]\n",
      "   --------------------------------- ------ 28/33 [torch]\n",
      "   --------------------------------- ------ 28/33 [torch]\n",
      "   --------------------------------- ------ 28/33 [torch]\n",
      "   --------------------------------- ------ 28/33 [torch]\n",
      "   --------------------------------- ------ 28/33 [torch]\n",
      "   --------------------------------- ------ 28/33 [torch]\n",
      "   --------------------------------- ------ 28/33 [torch]\n",
      "   --------------------------------- ------ 28/33 [torch]\n",
      "   --------------------------------- ------ 28/33 [torch]\n",
      "   --------------------------------- ------ 28/33 [torch]\n",
      "   --------------------------------- ------ 28/33 [torch]\n",
      "   --------------------------------- ------ 28/33 [torch]\n",
      "   --------------------------------- ------ 28/33 [torch]\n",
      "   --------------------------------- ------ 28/33 [torch]\n",
      "   --------------------------------- ------ 28/33 [torch]\n",
      "   --------------------------------- ------ 28/33 [torch]\n",
      "   --------------------------------- ------ 28/33 [torch]\n",
      "   --------------------------------- ------ 28/33 [torch]\n",
      "   --------------------------------- ------ 28/33 [torch]\n",
      "   --------------------------------- ------ 28/33 [torch]\n",
      "   --------------------------------- ------ 28/33 [torch]\n",
      "   --------------------------------- ------ 28/33 [torch]\n",
      "   --------------------------------- ------ 28/33 [torch]\n",
      "   --------------------------------- ------ 28/33 [torch]\n",
      "   --------------------------------- ------ 28/33 [torch]\n",
      "   --------------------------------- ------ 28/33 [torch]\n",
      "   --------------------------------- ------ 28/33 [torch]\n",
      "   --------------------------------- ------ 28/33 [torch]\n",
      "   --------------------------------- ------ 28/33 [torch]\n",
      "   --------------------------------- ------ 28/33 [torch]\n",
      "   --------------------------------- ------ 28/33 [torch]\n",
      "   --------------------------------- ------ 28/33 [torch]\n",
      "   --------------------------------- ------ 28/33 [torch]\n",
      "   --------------------------------- ------ 28/33 [torch]\n",
      "   --------------------------------- ------ 28/33 [torch]\n",
      "   --------------------------------- ------ 28/33 [torch]\n",
      "   --------------------------------- ------ 28/33 [torch]\n",
      "   --------------------------------- ------ 28/33 [torch]\n",
      "   --------------------------------- ------ 28/33 [torch]\n",
      "   --------------------------------- ------ 28/33 [torch]\n",
      "   --------------------------------- ------ 28/33 [torch]\n",
      "   --------------------------------- ------ 28/33 [torch]\n",
      "   --------------------------------- ------ 28/33 [torch]\n",
      "   --------------------------------- ------ 28/33 [torch]\n",
      "   --------------------------------- ------ 28/33 [torch]\n",
      "   --------------------------------- ------ 28/33 [torch]\n",
      "   --------------------------------- ------ 28/33 [torch]\n",
      "   --------------------------------- ------ 28/33 [torch]\n",
      "   --------------------------------- ------ 28/33 [torch]\n",
      "   --------------------------------- ------ 28/33 [torch]\n",
      "   --------------------------------- ------ 28/33 [torch]\n",
      "   --------------------------------- ------ 28/33 [torch]\n",
      "   --------------------------------- ------ 28/33 [torch]\n",
      "   --------------------------------- ------ 28/33 [torch]\n",
      "   --------------------------------- ------ 28/33 [torch]\n",
      "   --------------------------------- ------ 28/33 [torch]\n",
      "   --------------------------------- ------ 28/33 [torch]\n",
      "   --------------------------------- ------ 28/33 [torch]\n",
      "   --------------------------------- ------ 28/33 [torch]\n",
      "   --------------------------------- ------ 28/33 [torch]\n",
      "   --------------------------------- ------ 28/33 [torch]\n",
      "   --------------------------------- ------ 28/33 [torch]\n",
      "   --------------------------------- ------ 28/33 [torch]\n",
      "   --------------------------------- ------ 28/33 [torch]\n",
      "   --------------------------------- ------ 28/33 [torch]\n",
      "   --------------------------------- ------ 28/33 [torch]\n",
      "   --------------------------------- ------ 28/33 [torch]\n",
      "   --------------------------------- ------ 28/33 [torch]\n",
      "   --------------------------------- ------ 28/33 [torch]\n",
      "   --------------------------------- ------ 28/33 [torch]\n",
      "   --------------------------------- ------ 28/33 [torch]\n",
      "   --------------------------------- ------ 28/33 [torch]\n",
      "   --------------------------------- ------ 28/33 [torch]\n",
      "   --------------------------------- ------ 28/33 [torch]\n",
      "   --------------------------------- ------ 28/33 [torch]\n",
      "   --------------------------------- ------ 28/33 [torch]\n",
      "   --------------------------------- ------ 28/33 [torch]\n",
      "   --------------------------------- ------ 28/33 [torch]\n",
      "   --------------------------------- ------ 28/33 [torch]\n",
      "   --------------------------------- ------ 28/33 [torch]\n",
      "   --------------------------------- ------ 28/33 [torch]\n",
      "   --------------------------------- ------ 28/33 [torch]\n",
      "   --------------------------------- ------ 28/33 [torch]\n",
      "   --------------------------------- ------ 28/33 [torch]\n",
      "   --------------------------------- ------ 28/33 [torch]\n",
      "   --------------------------------- ------ 28/33 [torch]\n",
      "   --------------------------------- ------ 28/33 [torch]\n",
      "   --------------------------------- ------ 28/33 [torch]\n",
      "   --------------------------------- ------ 28/33 [torch]\n",
      "   --------------------------------- ------ 28/33 [torch]\n",
      "   --------------------------------- ------ 28/33 [torch]\n",
      "   --------------------------------- ------ 28/33 [torch]\n",
      "   --------------------------------- ------ 28/33 [torch]\n",
      "   --------------------------------- ------ 28/33 [torch]\n",
      "   --------------------------------- ------ 28/33 [torch]\n",
      "   --------------------------------- ------ 28/33 [torch]\n",
      "   --------------------------------- ------ 28/33 [torch]\n",
      "   --------------------------------- ------ 28/33 [torch]\n",
      "   --------------------------------- ------ 28/33 [torch]\n",
      "   --------------------------------- ------ 28/33 [torch]\n",
      "   --------------------------------- ------ 28/33 [torch]\n",
      "   --------------------------------- ------ 28/33 [torch]\n",
      "   --------------------------------- ------ 28/33 [torch]\n",
      "   --------------------------------- ------ 28/33 [torch]\n",
      "   --------------------------------- ------ 28/33 [torch]\n",
      "   --------------------------------- ------ 28/33 [torch]\n",
      "   --------------------------------- ------ 28/33 [torch]\n",
      "   --------------------------------- ------ 28/33 [torch]\n",
      "   --------------------------------- ------ 28/33 [torch]\n",
      "   --------------------------------- ------ 28/33 [torch]\n",
      "   --------------------------------- ------ 28/33 [torch]\n",
      "   --------------------------------- ------ 28/33 [torch]\n",
      "   --------------------------------- ------ 28/33 [torch]\n",
      "   --------------------------------- ------ 28/33 [torch]\n",
      "   --------------------------------- ------ 28/33 [torch]\n",
      "   --------------------------------- ------ 28/33 [torch]\n",
      "   --------------------------------- ------ 28/33 [torch]\n",
      "   --------------------------------- ------ 28/33 [torch]\n",
      "   --------------------------------- ------ 28/33 [torch]\n",
      "   --------------------------------- ------ 28/33 [torch]\n",
      "   --------------------------------- ------ 28/33 [torch]\n",
      "   --------------------------------- ------ 28/33 [torch]\n",
      "   --------------------------------- ------ 28/33 [torch]\n",
      "   --------------------------------- ------ 28/33 [torch]\n",
      "   --------------------------------- ------ 28/33 [torch]\n",
      "   --------------------------------- ------ 28/33 [torch]\n",
      "   --------------------------------- ------ 28/33 [torch]\n",
      "   --------------------------------- ------ 28/33 [torch]\n",
      "   --------------------------------- ------ 28/33 [torch]\n",
      "   --------------------------------- ------ 28/33 [torch]\n",
      "   --------------------------------- ------ 28/33 [torch]\n",
      "   --------------------------------- ------ 28/33 [torch]\n",
      "   --------------------------------- ------ 28/33 [torch]\n",
      "   --------------------------------- ------ 28/33 [torch]\n",
      "   --------------------------------- ------ 28/33 [torch]\n",
      "   --------------------------------- ------ 28/33 [torch]\n",
      "   --------------------------------- ------ 28/33 [torch]\n",
      "   --------------------------------- ------ 28/33 [torch]\n",
      "   --------------------------------- ------ 28/33 [torch]\n",
      "   --------------------------------- ------ 28/33 [torch]\n",
      "   --------------------------------- ------ 28/33 [torch]\n",
      "   --------------------------------- ------ 28/33 [torch]\n",
      "   --------------------------------- ------ 28/33 [torch]\n",
      "   --------------------------------- ------ 28/33 [torch]\n",
      "   --------------------------------- ------ 28/33 [torch]\n",
      "   --------------------------------- ------ 28/33 [torch]\n",
      "   --------------------------------- ------ 28/33 [torch]\n",
      "   --------------------------------- ------ 28/33 [torch]\n",
      "   --------------------------------- ------ 28/33 [torch]\n",
      "   --------------------------------- ------ 28/33 [torch]\n",
      "   --------------------------------- ------ 28/33 [torch]\n",
      "   --------------------------------- ------ 28/33 [torch]\n",
      "   --------------------------------- ------ 28/33 [torch]\n",
      "   --------------------------------- ------ 28/33 [torch]\n",
      "   --------------------------------- ------ 28/33 [torch]\n",
      "   --------------------------------- ------ 28/33 [torch]\n",
      "   --------------------------------- ------ 28/33 [torch]\n",
      "   --------------------------------- ------ 28/33 [torch]\n",
      "   --------------------------------- ------ 28/33 [torch]\n",
      "   --------------------------------- ------ 28/33 [torch]\n",
      "   --------------------------------- ------ 28/33 [torch]\n",
      "   --------------------------------- ------ 28/33 [torch]\n",
      "   ----------------------------------- ---- 29/33 [seaborn]\n",
      "   ----------------------------------- ---- 29/33 [seaborn]\n",
      "   ----------------------------------- ---- 29/33 [seaborn]\n",
      "   ----------------------------------- ---- 29/33 [seaborn]\n",
      "   ------------------------------------ --- 30/33 [ultralytics-thop]\n",
      "   ------------------------------------- -- 31/33 [torchvision]\n",
      "   ------------------------------------- -- 31/33 [torchvision]\n",
      "   ------------------------------------- -- 31/33 [torchvision]\n",
      "   ------------------------------------- -- 31/33 [torchvision]\n",
      "   ------------------------------------- -- 31/33 [torchvision]\n",
      "   ------------------------------------- -- 31/33 [torchvision]\n",
      "   ------------------------------------- -- 31/33 [torchvision]\n",
      "   ------------------------------------- -- 31/33 [torchvision]\n",
      "   ------------------------------------- -- 31/33 [torchvision]\n",
      "   ------------------------------------- -- 31/33 [torchvision]\n",
      "   ------------------------------------- -- 31/33 [torchvision]\n",
      "   ------------------------------------- -- 31/33 [torchvision]\n",
      "   ------------------------------------- -- 31/33 [torchvision]\n",
      "   ------------------------------------- -- 31/33 [torchvision]\n",
      "   ------------------------------------- -- 31/33 [torchvision]\n",
      "   ------------------------------------- -- 31/33 [torchvision]\n",
      "   ------------------------------------- -- 31/33 [torchvision]\n",
      "   ------------------------------------- -- 31/33 [torchvision]\n",
      "   -------------------------------------- - 32/33 [ultralytics]\n",
      "   -------------------------------------- - 32/33 [ultralytics]\n",
      "   -------------------------------------- - 32/33 [ultralytics]\n",
      "   -------------------------------------- - 32/33 [ultralytics]\n",
      "   -------------------------------------- - 32/33 [ultralytics]\n",
      "   -------------------------------------- - 32/33 [ultralytics]\n",
      "   -------------------------------------- - 32/33 [ultralytics]\n",
      "   -------------------------------------- - 32/33 [ultralytics]\n",
      "   -------------------------------------- - 32/33 [ultralytics]\n",
      "   -------------------------------------- - 32/33 [ultralytics]\n",
      "   -------------------------------------- - 32/33 [ultralytics]\n",
      "   -------------------------------------- - 32/33 [ultralytics]\n",
      "   -------------------------------------- - 32/33 [ultralytics]\n",
      "   -------------------------------------- - 32/33 [ultralytics]\n",
      "   ---------------------------------------- 33/33 [ultralytics]\n",
      "\n",
      "Successfully installed MarkupSafe-3.0.2 certifi-2025.4.26 charset-normalizer-3.4.2 contourpy-1.3.2 cycler-0.12.1 filelock-3.18.0 fonttools-4.57.0 fsspec-2025.3.2 idna-3.10 jinja2-3.1.6 kiwisolver-1.4.8 matplotlib-3.10.1 mpmath-1.3.0 networkx-3.4.2 pandas-2.2.3 pillow-11.2.1 py-cpuinfo-9.0.0 pyparsing-3.2.3 pytz-2025.2 pyyaml-6.0.2 requests-2.32.3 scipy-1.15.2 seaborn-0.13.2 setuptools-80.3.1 sympy-1.14.0 torch-2.7.0 torchvision-0.22.0 tqdm-4.67.1 typing-extensions-4.13.2 tzdata-2025.2 ultralytics-8.3.127 ultralytics-thop-2.0.14 urllib3-2.4.0\n"
     ]
    }
   ],
   "source": [
    "!pip install ultralytics"
   ]
  },
  {
   "cell_type": "code",
   "execution_count": 28,
   "metadata": {},
   "outputs": [
    {
     "name": "stdout",
     "output_type": "stream",
     "text": [
      "[INFO] Show your face for . Press 's' to save.\n",
      "[✅] Face for '' registered successfully!\n"
     ]
    }
   ],
   "source": [
    "import cv2\n",
    "import face_recognition\n",
    "import pandas as pd\n",
    "import os\n",
    "\n",
    "db_file = \"face_data.csv\"\n",
    "\n",
    "def register_face(name):\n",
    "    cap = cv2.VideoCapture(0)\n",
    "    print(f\"[INFO] Show your face for {name}. Press 's' to save.\")\n",
    "\n",
    "    while True:\n",
    "        ret, frame = cap.read()\n",
    "        if not ret:\n",
    "            print(\"[ERROR] Failed to capture frame\")\n",
    "            break\n",
    "\n",
    "        cv2.imshow(\"Register Face\", frame)\n",
    "\n",
    "        if cv2.waitKey(1) & 0xFF == ord('s'):\n",
    "            rgb = cv2.cvtColor(frame, cv2.COLOR_BGR2RGB)\n",
    "            boxes = face_recognition.face_locations(rgb)\n",
    "            if boxes:\n",
    "                encoding = face_recognition.face_encodings(rgb, boxes)[0]\n",
    "                encoding_str = ','.join(map(str, encoding))\n",
    "                df = pd.DataFrame([[name, encoding_str]], columns=[\"Name\", \"Encoding\"])\n",
    "                if os.path.exists(db_file):\n",
    "                    df.to_csv(db_file, mode='a', header=False, index=False)\n",
    "                else:\n",
    "                    df.to_csv(db_file, index=False)\n",
    "                print(f\"[✅] Face for '{name}' registered successfully!\")\n",
    "                break\n",
    "            else:\n",
    "                print(\"[❗] No face detected. Try again...\")\n",
    "\n",
    "    cap.release()\n",
    "    cv2.destroyAllWindows()\n",
    "\n",
    "# Example: Register a face\n",
    "name = input(\"Enter name to register: \")\n",
    "register_face(name)"
   ]
  },
  {
   "cell_type": "code",
   "execution_count": null,
   "metadata": {},
   "outputs": [],
   "source": [
    "!pip install cmake"
   ]
  },
  {
   "cell_type": "code",
   "execution_count": null,
   "metadata": {},
   "outputs": [],
   "source": [
    "!pip install opencv-python\n",
    "\n"
   ]
  },
  {
   "cell_type": "code",
   "execution_count": 33,
   "metadata": {},
   "outputs": [
    {
     "name": "stdout",
     "output_type": "stream",
     "text": [
      "[📸] Scanning for faces... Press 'q' to quit.\n"
     ]
    }
   ],
   "source": [
    "import cv2\n",
    "import face_recognition\n",
    "import numpy as np\n",
    "import pandas as pd\n",
    "import os\n",
    "from datetime import datetime\n",
    "\n",
    "db_file = \"face_data.csv\"\n",
    "attendance_file = \"attendance.csv\"\n",
    "\n",
    "# STEP 1: Register Face\n",
    "def register_face(name):\n",
    "    cap = cv2.VideoCapture(0)\n",
    "    print(\"[INFO] Show your face to the camera. Press 's' to save.\")\n",
    "\n",
    "    while True:\n",
    "        ret, frame = cap.read()\n",
    "        if not ret:\n",
    "            break\n",
    "\n",
    "        cv2.imshow(\"Register Face\", frame)\n",
    "\n",
    "        if cv2.waitKey(1) & 0xFF == ord('s'):\n",
    "            rgb = cv2.cvtColor(frame, cv2.COLOR_BGR2RGB)\n",
    "            boxes = face_recognition.face_locations(rgb)\n",
    "            if boxes:\n",
    "                encoding = face_recognition.face_encodings(rgb, boxes)[0]\n",
    "                encoding_str = ','.join(map(str, encoding))\n",
    "\n",
    "                df = pd.DataFrame([[name, encoding_str]], columns=[\"Name\", \"Encoding\"])\n",
    "                if os.path.exists(db_file):\n",
    "                    df.to_csv(db_file, mode='a', header=False, index=False)\n",
    "                else:\n",
    "                    df.to_csv(db_file, index=False)\n",
    "\n",
    "                print(f\"[✅] Face of '{name}' registered successfully!\")\n",
    "                break\n",
    "            else:\n",
    "                print(\"[❗] No face detected. Try again...\")\n",
    "\n",
    "    cap.release()\n",
    "    cv2.destroyAllWindows()\n",
    "\n",
    "# STEP 2: Load known faces\n",
    "def load_face_db():\n",
    "    if not os.path.exists(db_file):\n",
    "        return [], []\n",
    "\n",
    "    df = pd.read_csv(db_file)\n",
    "    names = df[\"Name\"].tolist()\n",
    "    encodings = [np.array(list(map(float, enc.split(',')))) for enc in df[\"Encoding\"].tolist()]\n",
    "    return names, encodings\n",
    "\n",
    "# STEP 3: Mark Attendance\n",
    "def mark_attendance(name):\n",
    "    now = datetime.now().strftime(\"%Y-%m-%d %H:%M:%S\")\n",
    "    if os.path.exists(attendance_file):\n",
    "        df = pd.read_csv(attendance_file)\n",
    "        if name in df[\"Name\"].values:\n",
    "            return  # Already marked\n",
    "    else:\n",
    "        df = pd.DataFrame(columns=[\"Name\", \"Time\"])\n",
    "\n",
    "    df.loc[len(df)] = [name, now]\n",
    "    df.to_csv(attendance_file, index=False)\n",
    "    print(f\"[📌] Attendance marked for: {name} at {now}\")\n",
    "\n",
    "# STEP 4: Live face recognition\n",
    "def recognize_faces():\n",
    "    known_names, known_encodings = load_face_db()\n",
    "    if not known_names:\n",
    "        print(\"[❗] No faces registered yet.\")\n",
    "        return\n",
    "\n",
    "    cap = cv2.VideoCapture(0)\n",
    "    print(\"[📸] Scanning for faces... Press 'q' to quit.\")\n",
    "\n",
    "    while True:\n",
    "        ret, frame = cap.read()\n",
    "        if not ret:\n",
    "            break\n",
    "\n",
    "        small_frame = cv2.resize(frame, (0, 0), fx=0.25, fy=0.25)\n",
    "        rgb_small = cv2.cvtColor(small_frame, cv2.COLOR_BGR2RGB)\n",
    "\n",
    "        face_locations = face_recognition.face_locations(rgb_small)\n",
    "        face_encodings = face_recognition.face_encodings(rgb_small, face_locations)\n",
    "\n",
    "        for encoding, loc in zip(face_encodings, face_locations):\n",
    "            matches = face_recognition.compare_faces(known_encodings, encoding, tolerance=0.5)\n",
    "            face_distances = face_recognition.face_distance(known_encodings, encoding)\n",
    "\n",
    "            name = \"Unknown\"\n",
    "            if True in matches:\n",
    "                best_match = np.argmin(face_distances)\n",
    "                name = known_names[best_match]\n",
    "                mark_attendance(name)\n",
    "\n",
    "            top, right, bottom, left = [v * 4 for v in loc]\n",
    "            cv2.rectangle(frame, (left, top), (right, bottom), (0, 255, 0), 2)\n",
    "            cv2.putText(frame, str(name), (left, top - 10),\n",
    "                        cv2.FONT_HERSHEY_SIMPLEX, 0.9, (0, 255, 0), 2)\n",
    "\n",
    "        cv2.imshow(\"Face Attendance System\", frame)\n",
    "        if cv2.waitKey(1) & 0xFF == ord('q'):\n",
    "            break\n",
    "\n",
    "    cap.release()\n",
    "    cv2.destroyAllWindows()\n",
    "\n",
    "# ======== Main Options =========\n",
    "choice = input(\"Choose action: [1] Register Face  [2] Start Attendance: \")\n",
    "\n",
    "if choice == \"1\":\n",
    "    name = input(\"Enter your name: \")\n",
    "    register_face(name)\n",
    "elif choice == \"2\":\n",
    "    recognize_faces()\n",
    "else:\n",
    "    print(\"Invalid choice.\")\n"
   ]
  },
  {
   "cell_type": "code",
   "execution_count": 1,
   "metadata": {},
   "outputs": [
    {
     "name": "stdout",
     "output_type": "stream",
     "text": [
      "Collecting face_recognition\n",
      "  Using cached face_recognition-1.3.0-py2.py3-none-any.whl.metadata (21 kB)\n",
      "Collecting face-recognition-models>=0.3.0 (from face_recognition)\n",
      "  Using cached face_recognition_models-0.3.0-py2.py3-none-any.whl\n",
      "Collecting Click>=6.0 (from face_recognition)\n",
      "  Using cached click-8.1.8-py3-none-any.whl.metadata (2.3 kB)\n",
      "Collecting dlib>=19.7 (from face_recognition)\n",
      "  Using cached dlib-19.24.8.tar.gz (3.4 MB)\n",
      "  Installing build dependencies: started\n",
      "  Installing build dependencies: finished with status 'done'\n",
      "  Getting requirements to build wheel: started\n",
      "  Getting requirements to build wheel: finished with status 'done'\n",
      "  Preparing metadata (pyproject.toml): started\n",
      "  Preparing metadata (pyproject.toml): finished with status 'done'\n",
      "Requirement already satisfied: numpy in d:\\2ndtry\\.venv\\lib\\site-packages (from face_recognition) (2.2.5)\n",
      "Requirement already satisfied: Pillow in d:\\2ndtry\\.venv\\lib\\site-packages (from face_recognition) (11.2.1)\n",
      "Requirement already satisfied: colorama in d:\\2ndtry\\.venv\\lib\\site-packages (from Click>=6.0->face_recognition) (0.4.6)\n",
      "Using cached face_recognition-1.3.0-py2.py3-none-any.whl (15 kB)\n",
      "Using cached click-8.1.8-py3-none-any.whl (98 kB)\n",
      "Building wheels for collected packages: dlib\n",
      "  Building wheel for dlib (pyproject.toml): started\n",
      "  Building wheel for dlib (pyproject.toml): still running...\n",
      "  Building wheel for dlib (pyproject.toml): still running...\n",
      "  Building wheel for dlib (pyproject.toml): still running...\n",
      "  Building wheel for dlib (pyproject.toml): still running...\n",
      "  Building wheel for dlib (pyproject.toml): finished with status 'done'\n",
      "  Created wheel for dlib: filename=dlib-19.24.8-cp312-cp312-win_amd64.whl size=2928054 sha256=dd6266026065d2c1cc4d2c040e3a04b40b9f3001f20ea7200fa4fcc022b7bd45\n",
      "  Stored in directory: c:\\users\\aashish\\appdata\\local\\pip\\cache\\wheels\\45\\47\\c4\\f5c2cf6f3b4ab4f558f27375101ead0ef7f1861d5aa54f5f8c\n",
      "Successfully built dlib\n",
      "Installing collected packages: face-recognition-models, dlib, Click, face_recognition\n",
      "\n",
      "   ---------------------------------------- 0/4 [face-recognition-models]\n",
      "   ---------------------------------------- 0/4 [face-recognition-models]\n",
      "   ---------------------------------------- 0/4 [face-recognition-models]\n",
      "   ---------------------------------------- 0/4 [face-recognition-models]\n",
      "   ---------------------------------------- 0/4 [face-recognition-models]\n",
      "   ---------------------------------------- 0/4 [face-recognition-models]\n",
      "   ---------------------------------------- 0/4 [face-recognition-models]\n",
      "   ---------------------------------------- 0/4 [face-recognition-models]\n",
      "   ---------------------------------------- 0/4 [face-recognition-models]\n",
      "   ---------------------------------------- 0/4 [face-recognition-models]\n",
      "   ---------------------------------------- 0/4 [face-recognition-models]\n",
      "   ---------------------------------------- 0/4 [face-recognition-models]\n",
      "   ---------- ----------------------------- 1/4 [dlib]\n",
      "   -------------------- ------------------- 2/4 [Click]\n",
      "   -------------------- ------------------- 2/4 [Click]\n",
      "   -------------------- ------------------- 2/4 [Click]\n",
      "   ------------------------------ --------- 3/4 [face_recognition]\n",
      "   ------------------------------ --------- 3/4 [face_recognition]\n",
      "   ------------------------------ --------- 3/4 [face_recognition]\n",
      "   ---------------------------------------- 4/4 [face_recognition]\n",
      "\n",
      "Successfully installed Click-8.1.8 dlib-19.24.8 face-recognition-models-0.3.0 face_recognition-1.3.0\n"
     ]
    }
   ],
   "source": [
    "\n",
    "!pip install face_recognition\n"
   ]
  },
  {
   "cell_type": "code",
   "execution_count": 34,
   "metadata": {},
   "outputs": [],
   "source": [
    "import cv2\n",
    "import face_recognition\n",
    "import numpy as np\n",
    "import pandas as pd\n",
    "import os\n",
    "import random\n",
    "from datetime import datetime\n",
    "from ultralytics import YOLO\n",
    "\n",
    "# Paths\n",
    "db_file = \"face_data.csv\"\n",
    "attendance_file = \"attendance.csv\"\n",
    "threshold_file = \"best_threshold.txt\"\n",
    "model = YOLO(r'D:\\2NDTRY\\runs\\detect\\train95\\weights\\best.pt')  # Update this path to the correct location of your YOLO model\n",
    "\n",
    "# Load saved face encodings\n",
    "def load_face_db():\n",
    "    if not os.path.exists(db_file):\n",
    "        return [], []\n",
    "    df = pd.read_csv(db_file)\n",
    "    names = df[\"Name\"].tolist()\n",
    "    encodings = [np.fromstring(e, sep=',') for e in df[\"Encoding\"]]\n",
    "    return names, encodings\n",
    "\n",
    "# Mark attendance (once per person per day)\n",
    "def mark_attendance(name):\n",
    "    now = datetime.now()\n",
    "    timestamp = now.strftime(\"%Y-%m-%d %H:%M:%S\")\n",
    "    date_today = now.strftime(\"%Y-%m-%d\")\n",
    "    if os.path.exists(attendance_file):\n",
    "        df = pd.read_csv(attendance_file)\n",
    "        if ((df[\"Name\"] == name) & (df[\"Time\"].str.startswith(date_today))).any():\n",
    "            return\n",
    "    else:\n",
    "        df = pd.DataFrame(columns=[\"Name\", \"Time\"])\n",
    "    df.loc[len(df)] = [name, timestamp]\n",
    "    df.to_csv(attendance_file, index=False)\n",
    "    print(f\"[📌] Attendance marked for: {name} at {timestamp}\")\n",
    "\n",
    "# Particle class for hybrid optimization (GA + PSO)\n",
    "class Particle:\n",
    "    def __init__(self):\n",
    "        self.position = random.uniform(0.3, 0.6)\n",
    "        self.velocity = 0\n",
    "        self.best_position = self.position\n",
    "        self.best_score = float('-inf')\n",
    "\n",
    "# Fitness function\n",
    "def fitness(threshold, encodings, names, test_data):\n",
    "    correct = 0\n",
    "    for frame, label in test_data:\n",
    "        face_encs = face_recognition.face_encodings(cv2.cvtColor(frame, cv2.COLOR_BGR2RGB))\n",
    "        if face_encs:\n",
    "            encoding = face_encs[0]\n",
    "            matches = face_recognition.compare_faces(encodings, encoding, tolerance=threshold)\n",
    "            dist = face_recognition.face_distance(encodings, encoding)\n",
    "            if True in matches:\n",
    "                best_match = np.argmin(dist)\n",
    "                if names[best_match] == label:\n",
    "                    correct += 1\n",
    "    return correct / len(test_data) if len(test_data) > 0 else 0\n",
    "\n",
    "\n",
    "# Hybrid optimization algorithm\n",
    "def hybrid_optimize(encodings, names, test_data, generations=10, swarm_size=5):\n",
    "    particles = [Particle() for _ in range(swarm_size)]\n",
    "    global_best_position = particles[0].position\n",
    "    global_best_score = float('-inf')\n",
    "\n",
    "    for _ in range(generations):\n",
    "        for p in particles:\n",
    "            score = fitness(p.position, encodings, names, test_data)\n",
    "            if score > p.best_score:\n",
    "                p.best_score = score\n",
    "                p.best_position = p.position\n",
    "            if score > global_best_score:\n",
    "                global_best_score = score\n",
    "                global_best_position = p.position\n",
    "\n",
    "        for p in particles:\n",
    "            inertia = 0.5\n",
    "            cognitive = 1.0 * random.random() * (p.best_position - p.position)\n",
    "            social = 1.0 * random.random() * (global_best_position - p.position)\n",
    "            p.velocity = inertia * p.velocity + cognitive + social\n",
    "            p.position += p.velocity\n",
    "            p.position = min(max(p.position, 0.3), 0.6)\n",
    "    \n",
    "    return global_best_position\n",
    "\n",
    "# Step 1: Collect face samples for testing optimization\n",
    "def collect_test_data(names, output_file=\"test_faces.npy\"):\n",
    "    cap = cv2.VideoCapture(0)\n",
    "    samples = []\n",
    "    print(\"[INFO] Collecting sample faces. Press 'q' when done.\")\n",
    "    while True:\n",
    "        ret, frame = cap.read()\n",
    "        if not ret:\n",
    "            break\n",
    "        results = model(frame)\n",
    "        detections = results[0].boxes.xyxy.cpu().numpy()\n",
    "        for box in detections:\n",
    "            x1, y1, x2, y2 = map(int, box)\n",
    "            face = frame[y1:y2, x1:x2]\n",
    "            if face.size:\n",
    "                samples.append((face, names[0]))\n",
    "                print(f\"[+] Sample {len(samples)} collected\")\n",
    "            if len(samples) >= 5:\n",
    "                break\n",
    "        cv2.imshow(\"Collecting Samples\", frame)\n",
    "        if cv2.waitKey(1) & 0xFF == ord('q') or len(samples) >= 5:\n",
    "            break\n",
    "    cap.release()\n",
    "    cv2.destroyAllWindows()\n",
    "    np.save(output_file, np.array(samples, dtype=object), allow_pickle=True)\n",
    "\n",
    "    print(f\"[✅] Saved {len(samples)} test samples.\")\n",
    "\n",
    "# Step 2: Run optimization and save threshold\n",
    "def run_and_save_optimization():\n",
    "    names, encodings = load_face_db()\n",
    "    test_data = np.load(\"test_faces.npy\", allow_pickle=True)\n",
    "    best_thresh = hybrid_optimize(encodings, names, test_data)\n",
    "    with open(threshold_file, \"w\") as f:\n",
    "        f.write(str(best_thresh))\n",
    "    print(f\"[🧠] Saved optimized threshold: {best_thresh}\")\n",
    "\n",
    "# Step 3: Real-time recognition using optimized threshold\n",
    "def recognize_faces():\n",
    "    names, encodings = load_face_db()\n",
    "    try:\n",
    "        with open(threshold_file, \"r\") as f:\n",
    "            threshold = float(f.read())\n",
    "    except:\n",
    "        print(\"[⚠️] Threshold not found, using default 0.45\")\n",
    "        threshold = 0.45\n",
    "\n",
    "    cap = cv2.VideoCapture(0)\n",
    "    print(f\"[🔍] Using threshold: {threshold}\")\n",
    "\n",
    "    while True:\n",
    "        ret, frame = cap.read()\n",
    "        if not ret:\n",
    "            break\n",
    "\n",
    "        results = model(frame)\n",
    "        detections = results[0].boxes.xyxy.cpu().numpy()\n",
    "\n",
    "        for box in detections:\n",
    "            x1, y1, x2, y2 = map(int, box)\n",
    "            face = frame[y1:y2, x1:x2]\n",
    "            if face.size == 0:\n",
    "                continue\n",
    "\n",
    "            rgb = cv2.cvtColor(face, cv2.COLOR_BGR2RGB)\n",
    "            face_encs = face_recognition.face_encodings(rgb)\n",
    "\n",
    "            if face_encs:\n",
    "                encoding = face_encs[0]\n",
    "                matches = face_recognition.compare_faces(encodings, encoding, tolerance=threshold)\n",
    "                dist = face_recognition.face_distance(encodings, encoding)\n",
    "                name = \"Unknown\"\n",
    "                if True in matches:\n",
    "                    best_match = np.argmin(dist)\n",
    "                    name = names[best_match]\n",
    "                    mark_attendance(name)\n",
    "                    \n",
    "\n",
    "                name_str = str(name)\n",
    "                cv2.rectangle(frame, (x1, y1), (x2, y2), (0, 255, 0), 2)\n",
    "                cv2.putText(frame, name_str, (x1, y1 - 10), cv2.FONT_HERSHEY_SIMPLEX, 0.9, (0, 255, 0), 2)\n",
    "\n",
    "        cv2.imshow(\"Hybrid Attendance\", frame)\n",
    "        if cv2.waitKey(1) & 0xFF == ord('q'):\n",
    "            break\n",
    "\n",
    "    cap.release()\n",
    "    cv2.destroyAllWindows()\n"
   ]
  },
  {
   "cell_type": "code",
   "execution_count": 35,
   "metadata": {},
   "outputs": [
    {
     "name": "stdout",
     "output_type": "stream",
     "text": [
      "[INFO] Collecting sample faces. Press 'q' when done.\n",
      "\n",
      "0: 480x640 1 Arav, 1 bb, 136.4ms\n",
      "Speed: 27.7ms preprocess, 136.4ms inference, 18.4ms postprocess per image at shape (1, 3, 480, 640)\n",
      "[+] Sample 1 collected\n",
      "[+] Sample 2 collected\n",
      "\n",
      "0: 480x640 1 bb, 84.9ms\n",
      "Speed: 2.6ms preprocess, 84.9ms inference, 1.0ms postprocess per image at shape (1, 3, 480, 640)\n",
      "[+] Sample 3 collected\n",
      "\n",
      "0: 480x640 1 bb, 70.3ms\n",
      "Speed: 1.5ms preprocess, 70.3ms inference, 1.3ms postprocess per image at shape (1, 3, 480, 640)\n",
      "[+] Sample 4 collected\n",
      "\n",
      "0: 480x640 1 bb, 82.5ms\n",
      "Speed: 1.5ms preprocess, 82.5ms inference, 1.2ms postprocess per image at shape (1, 3, 480, 640)\n",
      "[+] Sample 5 collected\n",
      "[✅] Saved 5 test samples.\n"
     ]
    }
   ],
   "source": [
    "names, _ = load_face_db()\n",
    "collect_test_data(names)\n"
   ]
  },
  {
   "cell_type": "code",
   "execution_count": 36,
   "metadata": {},
   "outputs": [
    {
     "name": "stdout",
     "output_type": "stream",
     "text": [
      "[🧠] Saved optimized threshold: 0.43551902457253844\n"
     ]
    }
   ],
   "source": [
    "run_and_save_optimization()\n"
   ]
  },
  {
   "cell_type": "code",
   "execution_count": 37,
   "metadata": {},
   "outputs": [
    {
     "name": "stdout",
     "output_type": "stream",
     "text": [
      "[🔍] Using threshold: 0.43551902457253844\n",
      "\n",
      "0: 480x640 1 bb, 90.4ms\n",
      "Speed: 4.8ms preprocess, 90.4ms inference, 1.4ms postprocess per image at shape (1, 3, 480, 640)\n",
      "\n",
      "0: 480x640 1 Nitin, 1 bb, 82.0ms\n",
      "Speed: 6.7ms preprocess, 82.0ms inference, 1.9ms postprocess per image at shape (1, 3, 480, 640)\n",
      "\n",
      "0: 480x640 1 Nitin, 1 bb, 62.8ms\n",
      "Speed: 1.9ms preprocess, 62.8ms inference, 1.0ms postprocess per image at shape (1, 3, 480, 640)\n",
      "\n",
      "0: 480x640 1 bb, 61.1ms\n",
      "Speed: 1.3ms preprocess, 61.1ms inference, 1.1ms postprocess per image at shape (1, 3, 480, 640)\n",
      "\n",
      "0: 480x640 1 bb, 63.5ms\n",
      "Speed: 2.0ms preprocess, 63.5ms inference, 0.8ms postprocess per image at shape (1, 3, 480, 640)\n",
      "\n",
      "0: 480x640 1 bb, 56.4ms\n",
      "Speed: 1.8ms preprocess, 56.4ms inference, 0.8ms postprocess per image at shape (1, 3, 480, 640)\n",
      "\n",
      "0: 480x640 1 bb, 59.5ms\n",
      "Speed: 1.1ms preprocess, 59.5ms inference, 0.8ms postprocess per image at shape (1, 3, 480, 640)\n",
      "\n",
      "0: 480x640 1 bb, 54.6ms\n",
      "Speed: 1.3ms preprocess, 54.6ms inference, 0.8ms postprocess per image at shape (1, 3, 480, 640)\n",
      "\n",
      "0: 480x640 1 bb, 56.0ms\n",
      "Speed: 1.3ms preprocess, 56.0ms inference, 0.9ms postprocess per image at shape (1, 3, 480, 640)\n",
      "\n",
      "0: 480x640 1 bb, 55.9ms\n",
      "Speed: 1.3ms preprocess, 55.9ms inference, 0.8ms postprocess per image at shape (1, 3, 480, 640)\n",
      "\n",
      "0: 480x640 1 bb, 57.7ms\n",
      "Speed: 1.4ms preprocess, 57.7ms inference, 0.9ms postprocess per image at shape (1, 3, 480, 640)\n",
      "\n",
      "0: 480x640 1 bb, 54.7ms\n",
      "Speed: 1.9ms preprocess, 54.7ms inference, 1.2ms postprocess per image at shape (1, 3, 480, 640)\n",
      "\n",
      "0: 480x640 1 bb, 53.9ms\n",
      "Speed: 1.5ms preprocess, 53.9ms inference, 0.9ms postprocess per image at shape (1, 3, 480, 640)\n",
      "\n",
      "0: 480x640 1 bb, 54.7ms\n",
      "Speed: 1.7ms preprocess, 54.7ms inference, 0.7ms postprocess per image at shape (1, 3, 480, 640)\n",
      "\n",
      "0: 480x640 1 bb, 56.0ms\n",
      "Speed: 2.1ms preprocess, 56.0ms inference, 0.9ms postprocess per image at shape (1, 3, 480, 640)\n"
     ]
    }
   ],
   "source": [
    "recognize_faces()\n"
   ]
  },
  {
   "cell_type": "code",
   "execution_count": null,
   "metadata": {},
   "outputs": [],
   "source": []
  }
 ],
 "metadata": {
  "kernelspec": {
   "display_name": ".venv",
   "language": "python",
   "name": "python3"
  },
  "language_info": {
   "codemirror_mode": {
    "name": "ipython",
    "version": 3
   },
   "file_extension": ".py",
   "mimetype": "text/x-python",
   "name": "python",
   "nbconvert_exporter": "python",
   "pygments_lexer": "ipython3",
   "version": "3.12.5"
  }
 },
 "nbformat": 4,
 "nbformat_minor": 2
}
